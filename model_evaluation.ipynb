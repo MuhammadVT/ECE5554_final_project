{
 "cells": [
  {
   "cell_type": "markdown",
   "metadata": {},
   "source": [
    "# Model Evaluation"
   ]
  },
  {
   "cell_type": "code",
   "execution_count": 6,
   "metadata": {
    "collapsed": true
   },
   "outputs": [],
   "source": [
    "# Load packages\n",
    "import matplotlib.pyplot as plt\n",
    "import pandas as pd\n",
    "import numpy as np\n",
    "\n",
    "# Load custom modules\n",
    "from custom_functions import fetch_data, prepare_data, train_predict, pol2cart"
   ]
  },
  {
   "cell_type": "code",
   "execution_count": 7,
   "metadata": {},
   "outputs": [],
   "source": [
    "# Set the style of display\n",
    "plt.style.use(\"ggplot\")\n",
    "%matplotlib inline"
   ]
  },
  {
   "cell_type": "markdown",
   "metadata": {},
   "source": [
    "## Distortion Maps"
   ]
  },
  {
   "cell_type": "code",
   "execution_count": 9,
   "metadata": {},
   "outputs": [
    {
     "name": "stderr",
     "output_type": "stream",
     "text": [
      "custom_functions.py:47: SettingWithCopyWarning: \n",
      "A value is trying to be set on a copy of a slice from a DataFrame\n",
      "\n",
      "See the caveats in the documentation: http://pandas.pydata.org/pandas-docs/stable/indexing.html#indexing-view-versus-copy\n",
      "  dfn.dropna(inplace=True)\n"
     ]
    }
   ],
   "source": [
    "# Fetch all the data taken from a given camera\n",
    "camera = \"mx\"\n",
    "image_num = \".\"\n",
    "image_nums_train = [\"2\"]\n",
    "image_nums_test = [\"3\"]\n",
    "df = fetch_data(camera, image_num)\n",
    "\n",
    "# Create the training and test datasets\n",
    "X_train, y_train = prepare_data(df, camera, image_nums=image_nums_train)\n",
    "X_test, y_test = prepare_data(df, camera, image_nums=image_nums_test)"
   ]
  },
  {
   "cell_type": "markdown",
   "metadata": {},
   "source": [
    "## Model Evaluation"
   ]
  },
  {
   "cell_type": "code",
   "execution_count": 10,
   "metadata": {},
   "outputs": [
    {
     "name": "stdout",
     "output_type": "stream",
     "text": [
      "RandomForestRegressor trained on 42 samples.\n"
     ]
    }
   ],
   "source": [
    "from sklearn.ensemble import RandomForestRegressor\n",
    "from sklearn.multioutput import MultiOutputRegressor\n",
    "\n",
    "# build a Random Forest model\n",
    "clf_RF = RandomForestRegressor(n_estimators=10, random_state=16)\n",
    "\n",
    "# collect results on the learners\n",
    "samples_100 = len(X_train)\n",
    "results = {}\n",
    "clf_name = clf_RF.__class__.__name__\n",
    "clf = MultiOutputRegressor(clf_RF)\n",
    "results[clf_name] = train_predict(clf_RF, samples_100, X_train, y_train, X_test, y_test)"
   ]
  },
  {
   "cell_type": "code",
   "execution_count": null,
   "metadata": {
    "collapsed": true
   },
   "outputs": [],
   "source": []
  }
 ],
 "metadata": {
  "kernelspec": {
   "display_name": "Python 2",
   "language": "python",
   "name": "python2"
  },
  "language_info": {
   "codemirror_mode": {
    "name": "ipython",
    "version": 2
   },
   "file_extension": ".py",
   "mimetype": "text/x-python",
   "name": "python",
   "nbconvert_exporter": "python",
   "pygments_lexer": "ipython2",
   "version": "2.7.13"
  }
 },
 "nbformat": 4,
 "nbformat_minor": 2
}
