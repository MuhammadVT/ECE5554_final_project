{
 "cells": [
  {
   "cell_type": "markdown",
   "metadata": {},
   "source": [
    "# Model Evaluation"
   ]
  },
  {
   "cell_type": "code",
   "execution_count": 27,
   "metadata": {
    "collapsed": true
   },
   "outputs": [],
   "source": [
    "# Load packages\n",
    "import matplotlib.pyplot as plt\n",
    "import pandas as pd\n",
    "import numpy as np\n",
    "from matplotlib.colors import Normalize\n",
    "import matplotlib.cm as cm\n",
    "\n",
    "# Load custom modules\n",
    "from gen_stars import gen_stars\n",
    "from dmap import dmap\n",
    "from gen_d_params import gen_d_params\n",
    "from custom_functions import fetch_data, prepare_data, train_predict, pol2cart"
   ]
  },
  {
   "cell_type": "code",
   "execution_count": 2,
   "metadata": {},
   "outputs": [],
   "source": [
    "# Set the style of display\n",
    "plt.style.use(\"ggplot\")\n",
    "%matplotlib inline"
   ]
  },
  {
   "cell_type": "markdown",
   "metadata": {},
   "source": [
    "## Distortion Maps"
   ]
  },
  {
   "cell_type": "code",
   "execution_count": 3,
   "metadata": {},
   "outputs": [
    {
     "name": "stderr",
     "output_type": "stream",
     "text": [
      "/home/sd-spare/muhammad/software/anaconda2/lib/python2.7/site-packages/pandas/core/indexing.py:357: SettingWithCopyWarning: \n",
      "A value is trying to be set on a copy of a slice from a DataFrame.\n",
      "Try using .loc[row_indexer,col_indexer] = value instead\n",
      "\n",
      "See the caveats in the documentation: http://pandas.pydata.org/pandas-docs/stable/indexing.html#indexing-view-versus-copy\n",
      "  self.obj[key] = _infer_fill_value(value)\n",
      "/home/sd-spare/muhammad/software/anaconda2/lib/python2.7/site-packages/pandas/core/indexing.py:621: SettingWithCopyWarning: \n",
      "A value is trying to be set on a copy of a slice from a DataFrame.\n",
      "Try using .loc[row_indexer,col_indexer] = value instead\n",
      "\n",
      "See the caveats in the documentation: http://pandas.pydata.org/pandas-docs/stable/indexing.html#indexing-view-versus-copy\n",
      "  self.obj[item_labels[indexer[info_axis]]] = value\n",
      "custom_functions.py:47: SettingWithCopyWarning: \n",
      "A value is trying to be set on a copy of a slice from a DataFrame\n",
      "\n",
      "See the caveats in the documentation: http://pandas.pydata.org/pandas-docs/stable/indexing.html#indexing-view-versus-copy\n",
      "  dfn.dropna(inplace=True)\n"
     ]
    }
   ],
   "source": [
    "# Fetch all the data taken from a given camera\n",
    "camera = \"mx\"\n",
    "image_num = \".\"\n",
    "image_nums_train = [\"2\"]\n",
    "image_nums_test = [\"3\"]\n",
    "df = fetch_data(camera, image_num)\n",
    "\n",
    "# Create the training and test datasets\n",
    "X_train, y_train = prepare_data(df, camera, image_nums=image_nums_train)\n",
    "X_test, y_test = prepare_data(df, camera, image_nums=image_nums_test)"
   ]
  },
  {
   "cell_type": "code",
   "execution_count": 4,
   "metadata": {},
   "outputs": [
    {
     "data": {
      "text/plain": [
       "count    115.000000\n",
       "mean      34.022748\n",
       "std       20.017454\n",
       "min        2.147886\n",
       "25%       17.108948\n",
       "50%       36.554175\n",
       "75%       48.260529\n",
       "max       89.817326\n",
       "Name: err_azm_mx2, dtype: float64"
      ]
     },
     "execution_count": 4,
     "metadata": {},
     "output_type": "execute_result"
    }
   ],
   "source": [
    "df.err_azm_mx2.describe()"
   ]
  },
  {
   "cell_type": "markdown",
   "metadata": {},
   "source": [
    "## Model Evaluation"
   ]
  },
  {
   "cell_type": "code",
   "execution_count": 5,
   "metadata": {},
   "outputs": [
    {
     "name": "stdout",
     "output_type": "stream",
     "text": [
      "MultiOutputRegressor trained on 42 samples.\n"
     ]
    }
   ],
   "source": [
    "from sklearn.linear_model import LinearRegression\n",
    "from sklearn.ensemble import GradientBoostingRegressor\n",
    "from sklearn.ensemble import RandomForestRegressor\n",
    "from sklearn.multioutput import MultiOutputRegressor\n",
    "\n",
    "# build a linear regression model\n",
    "clf = LinearRegression()\n",
    "\n",
    "# build a GradientBoosting Regressor model\n",
    "#clf = GradientBoostingRegressor(loss=\"ls\", learning_rate=0.1, n_estimators=10, random_state=16)\n",
    "\n",
    "# build a Random Forest model\n",
    "#clf = RandomForestRegressor(n_estimators=10, random_state=16)\n",
    "\n",
    "# collect results on the model\n",
    "samples_100 = len(X_train)\n",
    "results = {}\n",
    "clf_name = clf.__class__.__name__\n",
    "clf = MultiOutputRegressor(clf)\n",
    "results[clf_name] = train_predict(clf, samples_100, X_train, y_train, X_test, y_test)"
   ]
  },
  {
   "cell_type": "code",
   "execution_count": 15,
   "metadata": {},
   "outputs": [
    {
     "ename": "TypeError",
     "evalue": "dmap() got an unexpected keyword argument 'x_act'",
     "output_type": "error",
     "traceback": [
      "\u001b[0;31m---------------------------------------------------------------------------\u001b[0m",
      "\u001b[0;31mTypeError\u001b[0m                                 Traceback (most recent call last)",
      "\u001b[0;32m<ipython-input-15-14a9283c9cd9>\u001b[0m in \u001b[0;36m<module>\u001b[0;34m()\u001b[0m\n\u001b[1;32m      1\u001b[0m \u001b[0mdata\u001b[0m \u001b[0;34m=\u001b[0m \u001b[0mgen_stars\u001b[0m\u001b[0;34m(\u001b[0m\u001b[0;34m)\u001b[0m\u001b[0;34m\u001b[0m\u001b[0m\n\u001b[1;32m      2\u001b[0m \u001b[0mimg_name\u001b[0m \u001b[0;34m=\u001b[0m \u001b[0;34m[\u001b[0m\u001b[0mcamera\u001b[0m \u001b[0;34m+\u001b[0m \u001b[0mx\u001b[0m \u001b[0;32mfor\u001b[0m \u001b[0mx\u001b[0m \u001b[0;32min\u001b[0m \u001b[0mimage_nums_test\u001b[0m\u001b[0;34m]\u001b[0m\u001b[0;34m\u001b[0m\u001b[0m\n\u001b[0;32m----> 3\u001b[0;31m \u001b[0mdmap\u001b[0m\u001b[0;34m(\u001b[0m\u001b[0mdata\u001b[0m\u001b[0;34m,\u001b[0m \u001b[0mx_act\u001b[0m\u001b[0;34m=\u001b[0m\u001b[0;34m'x_act_'\u001b[0m\u001b[0;34m,\u001b[0m \u001b[0my_act\u001b[0m\u001b[0;34m=\u001b[0m\u001b[0;34m'y_act_'\u001b[0m\u001b[0;34m,\u001b[0m \u001b[0mx_img\u001b[0m\u001b[0;34m=\u001b[0m\u001b[0;34m'x_img_'\u001b[0m\u001b[0;34m,\u001b[0m \u001b[0my_img\u001b[0m\u001b[0;34m=\u001b[0m\u001b[0;34m'y_img_'\u001b[0m\u001b[0;34m,\u001b[0m \u001b[0merr_mag\u001b[0m\u001b[0;34m=\u001b[0m\u001b[0;34m'err_mag_'\u001b[0m\u001b[0;34m,\u001b[0m \u001b[0mimg_list\u001b[0m\u001b[0;34m=\u001b[0m\u001b[0mimg_name\u001b[0m\u001b[0;34m)\u001b[0m\u001b[0;34m\u001b[0m\u001b[0m\n\u001b[0m",
      "\u001b[0;31mTypeError\u001b[0m: dmap() got an unexpected keyword argument 'x_act'"
     ]
    }
   ],
   "source": [
    "data = gen_stars()\n",
    "img_name = [camera + x for x in image_nums_test]\n",
    "#dmap(data, x_act='x_act_', y_act='y_act_', x_img='x_img_', y_img='y_img_', err_mag='err_mag_', img_list=img_name)\n"
   ]
  },
  {
   "cell_type": "code",
   "execution_count": 30,
   "metadata": {},
   "outputs": [],
   "source": [
    "img_name_train = [camera + x for x in image_nums_train] \n",
    "img_name_test = [camera + x for x in image_nums_test]\n",
    "d_orig_train = gen_d_params(img_name_train)\n",
    "d_orig_test = gen_d_params(img_name_test)"
   ]
  },
  {
   "cell_type": "code",
   "execution_count": 44,
   "metadata": {},
   "outputs": [
    {
     "data": {
      "text/plain": [
       "<matplotlib.colorbar.Colorbar at 0x7f40c9612690>"
      ]
     },
     "execution_count": 44,
     "metadata": {},
     "output_type": "execute_result"
    },
    {
     "data": {
      "image/png": "[encoded data removed]",
      "text/plain": [
       "<matplotlib.figure.Figure at 0x7f40c97abe50>"
      ]
     },
     "metadata": {},
     "output_type": "display_data"
    }
   ],
   "source": [
    "#data = gen_stars()\n",
    "#img_name = [camera + x for x in image_nums_test][0]\n",
    "\n",
    "# need to move origin of all pixel coordinates to center of 1520x1520 grid\n",
    "offset = 759.5\n",
    "\n",
    "#x_act = data.loc[:, \"x_act_\" + img_name].as_matrix()\n",
    "#y_act = data.loc[:, \"y_act_\" + img_name].as_matrix()\n",
    "#x_img = data.loc[:, \"x_img_\" + img_name].as_matrix()\n",
    "#y_img = data.loc[:, \"x_img_\" + img_name].as_matrix()\n",
    "#mag = data.loc[:, \"err_mag_\" + img_name].as_matrix()\n",
    "\n",
    "x_act = d_orig_train[\"x_act\"]\n",
    "y_act = d_orig_train[\"y_act\"]\n",
    "x_img = d_orig_train[\"x_img\"]\n",
    "y_img = d_orig_train[\"y_img\"]\n",
    "mag = d_orig_train[\"mag\"]\n",
    "\n",
    "x_, y_ = pol2cart(np.deg2rad(X_test[:,1]), X_test[:, 0])\n",
    "mag_ = X_test[:, 0]\n",
    "#x_img = x_img + x_\n",
    "#y_img = y_img + y_\n",
    "#mag = mag + mag_\n",
    "\n",
    "#x_img = [x_img[i] + x_[i] for i in range(len(x_))]\n",
    "#y_img = [y_img[i] + y_[i] for i in range(len(y_))]\n",
    "#mag = [mag[i] + mag_[i] for i in range(len(x_))]\n",
    "\n",
    "v_err_x = ((x_act-offset)-(x_img-offset)).tolist()\n",
    "v_err_y = ((y_act-offset)-(y_img-offset)).tolist()\n",
    "v_err_loc_x = (x_img-offset).tolist()\n",
    "v_err_loc_y = (y_img-offset).tolist()\n",
    "\n",
    "#set colors of vectors to represent the relative magnitude of the error\n",
    "v_colors = mag.tolist()\n",
    "for i in range(len(v_colors)):\n",
    "    if np.isnan(v_colors[i]) == True:\n",
    "        v_colors[i] = 0.0\n",
    "norm = Normalize()\n",
    "norm.autoscale(v_colors)\n",
    "colormap = cm.jet\n",
    "sm = cm.ScalarMappable(cmap=colormap, norm=norm)\n",
    "sm.set_array([])\n",
    "fig, axes = plt.subplots(1,2, figsize=(15, 6))\n",
    "axes[0].quiver(v_err_loc_x,v_err_loc_y,v_err_x,v_err_y, color=colormap(norm(v_colors)))\n",
    "axes[0].set_xlim((-759.5,759.5))\n",
    "axes[0].set_ylim((-759.5,759.5))\n",
    "plt.colorbar(sm)"
   ]
  },
  {
   "cell_type": "code",
   "execution_count": 47,
   "metadata": {},
   "outputs": [
    {
     "data": {
      "text/plain": [
       "{'cols': 1520,\n",
       " 'img': ['mx2'],\n",
       " 'mag': array([ 2.80444825,  2.82768403,  2.35070904,  2.06848374,  2.00036622,\n",
       "         3.14951584,  2.26988216,  2.19350154,  1.66208062,  3.14579879,\n",
       "         2.34114374,  1.94206128,  2.57854882,  2.44517852,  1.553273  ,\n",
       "         1.95974743,  2.76723057,  2.47918394,  1.70980379,  1.00607853,\n",
       "         2.44668143,  1.42140951,  2.17102211,  2.97989413,  3.07297527,\n",
       "         2.6844085 ,  3.07355169,  2.68955349,  2.78380046,  1.59324606,\n",
       "         2.50878536,  2.48787882,  1.52075277,  1.90376522,  2.66695126,\n",
       "         2.652299  ,  2.81477264,  2.03097834,  2.82571336,  2.40867515,\n",
       "         1.71994709,  2.02551722,  2.68642848,  3.10530449,  3.11462309,\n",
       "         1.07693686,  2.5753658 ,  2.49128662,  1.37652461,  2.1538454 ,\n",
       "         2.58891966,  0.38658764,  1.94728375,  2.81554346,  1.61492105,\n",
       "         1.84012092,  2.98933856,  2.39297075,  2.39727867,  1.60852852,\n",
       "         3.05076253,  2.80701443,  2.76531825,  2.65869385,  2.80079167,\n",
       "         2.60750935,  1.61579021,  1.55266899,  1.82464928,  2.83919883,\n",
       "         1.83132739,  0.99905605,  1.16303267,  1.77574351,  1.52543371,\n",
       "         2.54065503,  1.53024344,  2.13540184,  3.09274797,  1.42071531,\n",
       "         1.43178211,  1.51805566,  1.61611417,  1.16088673,  2.35861591,\n",
       "         2.99522169,  3.00512579,  1.09123783,  2.01715542,  3.12633523,\n",
       "         1.06757389,  1.98760409,  1.05028472,  1.90421112,  1.9071581 ,\n",
       "         2.58789741,  1.77400254,  2.83150861,  2.33407626,  1.87650873,\n",
       "         2.52822804,  1.64524801,  1.6423401 ,  1.96257917,  1.62622415,\n",
       "         1.65819721,  1.24129287,  1.27831647,  1.60791573,  2.80742818,\n",
       "         1.70133183,  2.36804244,  3.02122657,  1.93962909,  1.89678517]),\n",
       " 'rows': 1520,\n",
       " 'x_act': array([ 1052.623,   484.226,  1209.458,  1419.405,   812.696,  1481.427,\n",
       "          227.466,  1246.733,   751.616,  1242.075,   339.755,  1112.609,\n",
       "          827.515,  1424.143,   815.679,   834.781,  1473.374,   151.182,\n",
       "         1264.443,   595.185,  1386.307,   683.187,   884.676,   974.287,\n",
       "         1184.271,   720.698,  1185.078,   722.563,  1004.849,  1044.768,\n",
       "          790.408,  1345.48 ,   717.572,   751.489,  1358.402,   205.651,\n",
       "          991.078,  1447.627,   564.216,  1295.81 ,   695.477,   919.182,\n",
       "          376.417,  1484.97 ,  1194.704,   752.802,   673.957,  1438.698,\n",
       "          738.922,   813.713,  1266.871,     4.175,    63.853,   649.306,\n",
       "          811.411,  1303.659,   894.081,   935.53 ,   784.294,   840.95 ,\n",
       "          923.946,  1364.699,  1216.261,   314.323,  1233.173,   314.042,\n",
       "          578.543,   841.78 ,   648.906,   714.545,   657.444,   183.053,\n",
       "          837.781,   837.714,  1149.502,   570.432,  1153.247,   466.431,\n",
       "          993.557,   523.136,   524.16 ,    76.848,  1206.911,   417.853,\n",
       "          728.467,  1010.878,  1016.409,   623.476,  1371.364,  1021.026,\n",
       "          689.595,  1331.259,   731.143,  1352.364,  1350.906,  1005.348,\n",
       "          432.968,   503.591,  1285.584,   897.423,   304.261,   672.541,\n",
       "          675.736,   294.479,  1190.839,  1203.373,   869.008,   886.677,\n",
       "         1156.507,   661.272,   729.131,  1512.638,  1409.033,   766.77 ,\n",
       "          761.957]),\n",
       " 'x_img': array([ 1053.31,   485.94,  1209.59,  1418.46,   813.3 ,  1481.37,\n",
       "          229.14,  1246.49,   752.08,  1242.58,   341.34,  1112.5 ,\n",
       "          828.5 ,  1423.66,   815.91,   835.31,  1473.04,   153.09,\n",
       "         1263.42,   595.38,  1385.94,   683.58,   885.26,   975.25,\n",
       "         1184.86,   721.93,  1185.67,   723.81,  1005.63,  1044.48,\n",
       "          791.41,  1345.27,   717.98,   752.14,  1358.3 ,   207.62,\n",
       "          991.91,  1446.44,   565.8 ,  1295.66,   696.09,   919.59,\n",
       "          378.18,  1484.88,  1195.29,   752.71,   675.21,  1438.22,\n",
       "          739.17,   814.43,  1266.94,     4.56,    65.47,   650.74,\n",
       "          811.71,  1302.79,   895.2 ,   936.18,   785.23,   841.18,\n",
       "          925.05,  1364.69,  1216.57,   316.16,  1233.47,   316.07,\n",
       "          579.27,   841.97,   649.67,   715.9 ,   658.2 ,   183.83,\n",
       "          837.83,   837.89,  1148.66,   571.82,  1152.37,   467.71,\n",
       "          994.55,   523.8 ,   524.84,    78.13,  1205.99,   418.48,\n",
       "          729.48,  1011.79,  1017.3 ,   623.7 ,  1370.56,  1021.99,\n",
       "          689.63,  1330.54,   731.06,  1351.41,  1349.96,  1005.99,\n",
       "          434.03,   505.27,  1285.39,   897.76,   306.02,   673.12,\n",
       "          676.32,   295.84,  1190.05,  1202.6 ,   868.79,   886.45,\n",
       "         1155.86,   662.69,   729.66,  1511.79,  1409.07,   767.41,   762.57]),\n",
       " 'xdiff': array([ 0.687,  1.714,  0.132, -0.945,  0.604, -0.057,  1.674, -0.243,\n",
       "         0.464,  0.505,  1.585, -0.109,  0.985, -0.483,  0.231,  0.529,\n",
       "        -0.334,  1.908, -1.023,  0.195, -0.367,  0.393,  0.584,  0.963,\n",
       "         0.589,  1.232,  0.592,  1.247,  0.781, -0.288,  1.002, -0.21 ,\n",
       "         0.408,  0.651, -0.102,  1.969,  0.832, -1.187,  1.584, -0.15 ,\n",
       "         0.613,  0.408,  1.763, -0.09 ,  0.586, -0.092,  1.253, -0.478,\n",
       "         0.248,  0.717,  0.069,  0.385,  1.617,  1.434,  0.299, -0.869,\n",
       "         1.119,  0.65 ,  0.936,  0.23 ,  1.104, -0.009,  0.309,  1.837,\n",
       "         0.297,  2.028,  0.727,  0.19 ,  0.764,  1.355,  0.756,  0.777,\n",
       "         0.049,  0.176, -0.842,  1.388, -0.877,  1.279,  0.993,  0.664,\n",
       "         0.68 ,  1.282, -0.921,  0.627,  1.013,  0.912,  0.891,  0.224,\n",
       "        -0.804,  0.964,  0.035, -0.719, -0.083, -0.954, -0.946,  0.642,\n",
       "         1.062,  1.679, -0.194,  0.337,  1.759,  0.579,  0.584,  1.361,\n",
       "        -0.789, -0.773, -0.218, -0.227, -0.647,  1.418,  0.529, -0.848,\n",
       "         0.037,  0.64 ,  0.613]),\n",
       " 'y_act': array([  232.871,    36.431,   661.583,  1212.22 ,   582.653,   309.431,\n",
       "          304.227,   789.84 ,   763.374,   143.515,   272.147,   841.441,\n",
       "          252.267,   787.933,   878.574,   617.433,   576.203,   192.367,\n",
       "         1477.79 ,  1129.433,   726.281,   887.764,   511.949,    95.48 ,\n",
       "          149.804,   162.875,   150.344,   161.277,   214.108,  1074.443,\n",
       "          280.33 ,   648.721,   842.275,   609.491,   537.835,   103.663,\n",
       "          186.711,  1405.582,    48.68 ,   658.176,   703.383,   626.896,\n",
       "           87.483,   343.686,   127.761,  1216.097,   205.89 ,   760.845,\n",
       "          950.156,   487.339,   502.902,  1430.205,   487.065,    74.287,\n",
       "          837.763,  1289.518,    57.958,   403.727,   336.993,   859.088,\n",
       "           32.106,   440.533,   353.222,   105.168,   339.075,   106.091,\n",
       "          717.977,   897.589,   620.673,    78.565,   620.762,  1013.862,\n",
       "          959.418,   959.113,  1442.668,   190.852,  1471.346,   395.98 ,\n",
       "           41.891,   816.434,   814.36 ,   727.547,  1450.452,   943.023,\n",
       "          339.51 ,    94.687,    99.   ,  1081.272,  1150.69 ,    35.356,\n",
       "         1164.863,  1124.557,  1227.313,  1310.042,  1304.484,   329.063,\n",
       "          595.279,    33.58 ,   707.344,   707.874,   172.554,   739.13 ,\n",
       "          744.715,   454.026,  1353.508,  1323.123,  1206.838,  1195.012,\n",
       "         1269.928,    82.047,   730.573,  1001.179,   334.659,   601.519,\n",
       "          625.565]),\n",
       " 'y_img': array([  235.59,    38.68,   663.93,  1214.06,   584.56,   312.58,\n",
       "          305.76,   792.02,   764.97,   146.62,   273.87,   843.38,\n",
       "          254.65,   790.33,   880.11,   619.32,   578.95,   193.95,\n",
       "         1479.16,  1130.42,   728.7 ,   889.13,   514.04,    98.3 ,\n",
       "          152.82,   165.26,   153.36,   163.66,   216.78,  1076.01,\n",
       "          282.63,   651.2 ,   843.74,   611.28,   540.5 ,   105.44,\n",
       "          189.4 ,  1407.23,    51.02,   660.58,   704.99,   628.88,\n",
       "           89.51,   346.79,   130.82,  1217.17,   208.14,   763.29,\n",
       "          951.51,   489.37,   505.49,  1430.24,   488.15,    76.71,\n",
       "          839.35,  1291.14,    60.73,   406.03,   339.2 ,   860.68,\n",
       "           34.95,   443.34,   355.97,   107.09,   341.86,   107.73,\n",
       "          719.42,   899.13,   622.33,    81.06,   622.43,  1014.49,\n",
       "          960.58,   960.88,  1443.94,   192.98,  1472.6 ,   397.69,\n",
       "           44.82,   817.69,   815.62,   728.36,  1451.78,   944.  ,\n",
       "          341.64,    97.54,   101.87,  1082.34,  1152.54,    38.33,\n",
       "         1165.93,  1126.41,  1228.36,  1311.69,  1306.14,   331.57,\n",
       "          596.7 ,    35.86,   709.67,   709.72,   174.37,   740.67,\n",
       "          746.25,   455.44,  1354.93,  1324.59,  1208.06,  1196.27,\n",
       "         1271.4 ,    84.47,   732.19,  1003.39,   337.68,   603.35,   627.36]),\n",
       " 'ydiff': array([ 2.719,  2.249,  2.347,  1.84 ,  1.907,  3.149,  1.533,  2.18 ,\n",
       "         1.596,  3.105,  1.723,  1.939,  2.383,  2.397,  1.536,  1.887,\n",
       "         2.747,  1.583,  1.37 ,  0.987,  2.419,  1.366,  2.091,  2.82 ,\n",
       "         3.016,  2.385,  3.016,  2.383,  2.672,  1.567,  2.3  ,  2.479,\n",
       "         1.465,  1.789,  2.665,  1.777,  2.689,  1.648,  2.34 ,  2.404,\n",
       "         1.607,  1.984,  2.027,  3.104,  3.059,  1.073,  2.25 ,  2.445,\n",
       "         1.354,  2.031,  2.588,  0.035,  1.085,  2.423,  1.587,  1.622,\n",
       "         2.772,  2.303,  2.207,  1.592,  2.844,  2.807,  2.748,  1.922,\n",
       "         2.785,  1.639,  1.443,  1.541,  1.657,  2.495,  1.668,  0.628,\n",
       "         1.162,  1.767,  1.272,  2.128,  1.254,  1.71 ,  2.929,  1.256,\n",
       "         1.26 ,  0.813,  1.328,  0.977,  2.13 ,  2.853,  2.87 ,  1.068,\n",
       "         1.85 ,  2.974,  1.067,  1.853,  1.047,  1.648,  1.656,  2.507,\n",
       "         1.421,  2.28 ,  2.326,  1.846,  1.816,  1.54 ,  1.535,  1.414,\n",
       "         1.422,  1.467,  1.222,  1.258,  1.472,  2.423,  1.617,  2.211,\n",
       "         3.021,  1.831,  1.795])}"
      ]
     },
     "execution_count": 47,
     "metadata": {},
     "output_type": "execute_result"
    }
   ],
   "source": [
    "d_orig_train"
   ]
  },
  {
   "cell_type": "code",
   "execution_count": 43,
   "metadata": {},
   "outputs": [
    {
     "data": {
      "text/plain": [
       "array([  476.01864921,   684.94034149,   630.01692438,   682.23156428,\n",
       "         139.87133802,  1013.69073415,   644.31083073,   436.58825923,\n",
       "          87.88557675,    73.21519514,   775.33476879,   555.73024319,\n",
       "         104.09043232,   715.43772762,   139.72979711,   747.3964547 ,\n",
       "         898.82236649,   644.72798435,   169.97474077,   167.03221995,\n",
       "         591.927943  ,   455.15289146,   995.89514789,   227.88553486,\n",
       "         226.36965897,   418.44027017,   344.2100719 ,   773.7671242 ,\n",
       "         693.51356331,   818.38977755,   502.39523346,    69.50739241,\n",
       "         540.91003771,   745.47077964,   729.22869568,   459.39461523,\n",
       "         658.09794848,   679.79324658,    31.46772474,   808.33039192,\n",
       "         802.20769661])"
      ]
     },
     "execution_count": 43,
     "metadata": {},
     "output_type": "execute_result"
    }
   ],
   "source": [
    "mag_"
   ]
  },
  {
   "cell_type": "code",
   "execution_count": null,
   "metadata": {
    "collapsed": true
   },
   "outputs": [],
   "source": []
  }
 ],
 "metadata": {
  "kernelspec": {
   "display_name": "Python 2",
   "language": "python",
   "name": "python2"
  },
  "language_info": {
   "codemirror_mode": {
    "name": "ipython",
    "version": 2
   },
   "file_extension": ".py",
   "mimetype": "text/x-python",
   "name": "python",
   "nbconvert_exporter": "python",
   "pygments_lexer": "ipython2",
   "version": "2.7.13"
  }
 },
 "nbformat": 4,
 "nbformat_minor": 2
}
