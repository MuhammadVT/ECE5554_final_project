{
 "cells": [
  {
   "cell_type": "code",
   "execution_count": 1,
   "metadata": {
    "collapsed": true
   },
   "outputs": [],
   "source": [
    "# Load packages\n",
    "import matplotlib.pyplot as plt\n",
    "import pandas as pd\n",
    "import numpy as np\n",
    "from sklearn import preprocessing\n",
    "from sklearn import linear_model"
   ]
  },
  {
   "cell_type": "code",
   "execution_count": 2,
   "metadata": {
    "collapsed": true
   },
   "outputs": [],
   "source": [
    "# Set the style of display\n",
    "plt.style.use(\"ggplot\")\n",
    "%matplotlib inline"
   ]
  },
  {
   "cell_type": "code",
   "execution_count": 3,
   "metadata": {
    "collapsed": true
   },
   "outputs": [],
   "source": [
    "data = pd.read_csv('./data/image_database.txt')"
   ]
  },
  {
   "cell_type": "code",
   "execution_count": 4,
   "metadata": {},
   "outputs": [
    {
     "data": {
      "text/plain": [
       "Index([u'starname', u'ra_act', u'dec_act', u'x_act_mx1', u'x_act_mx2',\n",
       "       u'x_act_mx3', u'x_act_my3', u'x_act_my4', u'x_act_px1', u'x_act_px2',\n",
       "       u'x_act_px3', u'x_act_py1', u'x_act_py2', u'x_act_py3', u'x_act_py4',\n",
       "       u'x_img_mx1', u'x_img_mx2', u'x_img_mx3', u'x_img_my3', u'x_img_my4',\n",
       "       u'x_img_px1', u'x_img_px2', u'x_img_px3', u'x_img_py1', u'x_img_py2',\n",
       "       u'x_img_py3', u'x_img_py4', u'y_act_mx1', u'y_act_mx2', u'y_act_mx3',\n",
       "       u'y_act_my3', u'y_act_my4', u'y_act_px1', u'y_act_px2', u'y_act_px3',\n",
       "       u'y_act_py1', u'y_act_py2', u'y_act_py3', u'y_act_py4', u'y_img_mx1',\n",
       "       u'y_img_mx2', u'y_img_mx3', u'y_img_my3', u'y_img_my4', u'y_img_px1',\n",
       "       u'y_img_px2', u'y_img_px3', u'y_img_py1', u'y_img_py2', u'y_img_py3',\n",
       "       u'y_img_py4', u'v_global_x', u'v_global_y', u'v_global_z',\n",
       "       u'err_mag_mx3', u'err_r_mx3', u'err_ang_mx3', u'err_mag_py3',\n",
       "       u'err_r_py3', u'err_ang_py3', u'err_mag_my3', u'err_r_my3',\n",
       "       u'err_ang_my3', u'err_mag_px1', u'err_r_px1', u'err_ang_px1',\n",
       "       u'err_mag_px3', u'err_r_px3', u'err_ang_px3', u'err_mag_mx2',\n",
       "       u'err_r_mx2', u'err_ang_mx2', u'err_mag_my4', u'err_r_my4',\n",
       "       u'err_ang_my4', u'err_mag_px2', u'err_r_px2', u'err_ang_px2',\n",
       "       u'err_mag_py4', u'err_r_py4', u'err_ang_py4', u'err_mag_py2',\n",
       "       u'err_r_py2', u'err_ang_py2', u'err_mag_mx1', u'err_r_mx1',\n",
       "       u'err_ang_mx1', u'err_mag_py1', u'err_r_py1', u'err_ang_py1'],\n",
       "      dtype='object')"
      ]
     },
     "execution_count": 4,
     "metadata": {},
     "output_type": "execute_result"
    }
   ],
   "source": [
    "data.columns"
   ]
  },
  {
   "cell_type": "code",
   "execution_count": 5,
   "metadata": {
    "collapsed": true
   },
   "outputs": [],
   "source": [
    "def fetch_data(camera, image_num):\n",
    "    \"\"\" Fetches the star data from a given image taken from a given camera\n",
    "    Parameters\n",
    "    ----------\n",
    "    camera : str\n",
    "        The camera name\n",
    "    image_num: str\n",
    "        The number of an image from a camera. \n",
    "        If set to \".\", all the images will be returned\n",
    "        \n",
    "    Returns\n",
    "    -------\n",
    "    Pandas.DataFrames\n",
    "        Returns a data fram with NaN entries removed\n",
    "    \"\"\"\n",
    "    # Load all the star data\n",
    "    data = pd.read_csv('./data/image_database.txt')\n",
    "    \n",
    "    # Fetch the data of interest set by \"camera\" and \"image_num\"\n",
    "    regex_txt = \"err_.*\" + camera + image_num\n",
    "    df = data.filter(regex=regex_txt)\n",
    "    \n",
    "    return df"
   ]
  },
  {
   "cell_type": "code",
   "execution_count": 6,
   "metadata": {},
   "outputs": [
    {
     "data": {
      "text/html": [
       "<div>\n",
       "<style scoped>\n",
       "    .dataframe tbody tr th:only-of-type {\n",
       "        vertical-align: middle;\n",
       "    }\n",
       "\n",
       "    .dataframe tbody tr th {\n",
       "        vertical-align: top;\n",
       "    }\n",
       "\n",
       "    .dataframe thead th {\n",
       "        text-align: right;\n",
       "    }\n",
       "</style>\n",
       "<table border=\"1\" class=\"dataframe\">\n",
       "  <thead>\n",
       "    <tr style=\"text-align: right;\">\n",
       "      <th></th>\n",
       "      <th>err_mag_mx3</th>\n",
       "      <th>err_r_mx3</th>\n",
       "      <th>err_ang_mx3</th>\n",
       "      <th>err_mag_mx2</th>\n",
       "      <th>err_r_mx2</th>\n",
       "      <th>err_ang_mx2</th>\n",
       "      <th>err_mag_mx1</th>\n",
       "      <th>err_r_mx1</th>\n",
       "      <th>err_ang_mx1</th>\n",
       "    </tr>\n",
       "  </thead>\n",
       "  <tbody>\n",
       "    <tr>\n",
       "      <th>0</th>\n",
       "      <td>NaN</td>\n",
       "      <td>NaN</td>\n",
       "      <td>84.859260</td>\n",
       "      <td>NaN</td>\n",
       "      <td>NaN</td>\n",
       "      <td>84.859260</td>\n",
       "      <td>NaN</td>\n",
       "      <td>NaN</td>\n",
       "      <td>84.859260</td>\n",
       "    </tr>\n",
       "    <tr>\n",
       "      <th>1</th>\n",
       "      <td>NaN</td>\n",
       "      <td>NaN</td>\n",
       "      <td>34.887684</td>\n",
       "      <td>NaN</td>\n",
       "      <td>NaN</td>\n",
       "      <td>34.887684</td>\n",
       "      <td>NaN</td>\n",
       "      <td>NaN</td>\n",
       "      <td>34.887684</td>\n",
       "    </tr>\n",
       "    <tr>\n",
       "      <th>2</th>\n",
       "      <td>NaN</td>\n",
       "      <td>NaN</td>\n",
       "      <td>94.018541</td>\n",
       "      <td>NaN</td>\n",
       "      <td>NaN</td>\n",
       "      <td>94.018541</td>\n",
       "      <td>NaN</td>\n",
       "      <td>NaN</td>\n",
       "      <td>94.018541</td>\n",
       "    </tr>\n",
       "    <tr>\n",
       "      <th>3</th>\n",
       "      <td>NaN</td>\n",
       "      <td>NaN</td>\n",
       "      <td>93.243282</td>\n",
       "      <td>NaN</td>\n",
       "      <td>NaN</td>\n",
       "      <td>93.243282</td>\n",
       "      <td>NaN</td>\n",
       "      <td>NaN</td>\n",
       "      <td>93.243282</td>\n",
       "    </tr>\n",
       "    <tr>\n",
       "      <th>4</th>\n",
       "      <td>NaN</td>\n",
       "      <td>NaN</td>\n",
       "      <td>93.064243</td>\n",
       "      <td>NaN</td>\n",
       "      <td>NaN</td>\n",
       "      <td>93.064243</td>\n",
       "      <td>NaN</td>\n",
       "      <td>NaN</td>\n",
       "      <td>93.064243</td>\n",
       "    </tr>\n",
       "  </tbody>\n",
       "</table>\n",
       "</div>"
      ],
      "text/plain": [
       "   err_mag_mx3  err_r_mx3  err_ang_mx3  err_mag_mx2  err_r_mx2  err_ang_mx2  \\\n",
       "0          NaN        NaN    84.859260          NaN        NaN    84.859260   \n",
       "1          NaN        NaN    34.887684          NaN        NaN    34.887684   \n",
       "2          NaN        NaN    94.018541          NaN        NaN    94.018541   \n",
       "3          NaN        NaN    93.243282          NaN        NaN    93.243282   \n",
       "4          NaN        NaN    93.064243          NaN        NaN    93.064243   \n",
       "\n",
       "   err_mag_mx1  err_r_mx1  err_ang_mx1  \n",
       "0          NaN        NaN    84.859260  \n",
       "1          NaN        NaN    34.887684  \n",
       "2          NaN        NaN    94.018541  \n",
       "3          NaN        NaN    93.243282  \n",
       "4          NaN        NaN    93.064243  "
      ]
     },
     "execution_count": 6,
     "metadata": {},
     "output_type": "execute_result"
    }
   ],
   "source": [
    "# Fetch all the data taken from camera \"mx\" \n",
    "camera = \"mx\"\n",
    "image_num = \".\"\n",
    "\n",
    "df = fetch_data(camera, image_num)\n",
    "df.head()"
   ]
  },
  {
   "cell_type": "code",
   "execution_count": 7,
   "metadata": {},
   "outputs": [
    {
     "data": {
      "text/html": [
       "<div>\n",
       "<style scoped>\n",
       "    .dataframe tbody tr th:only-of-type {\n",
       "        vertical-align: middle;\n",
       "    }\n",
       "\n",
       "    .dataframe tbody tr th {\n",
       "        vertical-align: top;\n",
       "    }\n",
       "\n",
       "    .dataframe thead th {\n",
       "        text-align: right;\n",
       "    }\n",
       "</style>\n",
       "<table border=\"1\" class=\"dataframe\">\n",
       "  <thead>\n",
       "    <tr style=\"text-align: right;\">\n",
       "      <th></th>\n",
       "      <th>err_mag_mx3</th>\n",
       "      <th>err_r_mx3</th>\n",
       "      <th>err_ang_mx3</th>\n",
       "      <th>err_mag_mx2</th>\n",
       "      <th>err_r_mx2</th>\n",
       "      <th>err_ang_mx2</th>\n",
       "      <th>err_mag_mx1</th>\n",
       "      <th>err_r_mx1</th>\n",
       "      <th>err_ang_mx1</th>\n",
       "    </tr>\n",
       "  </thead>\n",
       "  <tbody>\n",
       "    <tr>\n",
       "      <th>count</th>\n",
       "      <td>112.000000</td>\n",
       "      <td>112.000000</td>\n",
       "      <td>98.000000</td>\n",
       "      <td>115.000000</td>\n",
       "      <td>115.000000</td>\n",
       "      <td>98.000000</td>\n",
       "      <td>21.000000</td>\n",
       "      <td>21.000000</td>\n",
       "      <td>98.000000</td>\n",
       "    </tr>\n",
       "    <tr>\n",
       "      <th>mean</th>\n",
       "      <td>1.708790</td>\n",
       "      <td>542.145293</td>\n",
       "      <td>101.438478</td>\n",
       "      <td>2.156539</td>\n",
       "      <td>531.218733</td>\n",
       "      <td>101.438478</td>\n",
       "      <td>0.929675</td>\n",
       "      <td>563.367564</td>\n",
       "      <td>101.438478</td>\n",
       "    </tr>\n",
       "    <tr>\n",
       "      <th>std</th>\n",
       "      <td>0.727047</td>\n",
       "      <td>263.917057</td>\n",
       "      <td>27.460691</td>\n",
       "      <td>0.625118</td>\n",
       "      <td>251.130435</td>\n",
       "      <td>27.460691</td>\n",
       "      <td>0.611878</td>\n",
       "      <td>186.577424</td>\n",
       "      <td>27.460691</td>\n",
       "    </tr>\n",
       "    <tr>\n",
       "      <th>min</th>\n",
       "      <td>0.111400</td>\n",
       "      <td>9.102225</td>\n",
       "      <td>15.155884</td>\n",
       "      <td>0.386588</td>\n",
       "      <td>9.218313</td>\n",
       "      <td>15.155884</td>\n",
       "      <td>0.082680</td>\n",
       "      <td>156.328580</td>\n",
       "      <td>15.155884</td>\n",
       "    </tr>\n",
       "    <tr>\n",
       "      <th>25%</th>\n",
       "      <td>1.263753</td>\n",
       "      <td>348.696906</td>\n",
       "      <td>82.916111</td>\n",
       "      <td>1.643794</td>\n",
       "      <td>356.533943</td>\n",
       "      <td>82.916111</td>\n",
       "      <td>0.627360</td>\n",
       "      <td>532.972339</td>\n",
       "      <td>82.916111</td>\n",
       "    </tr>\n",
       "    <tr>\n",
       "      <th>50%</th>\n",
       "      <td>1.744043</td>\n",
       "      <td>606.238980</td>\n",
       "      <td>105.832814</td>\n",
       "      <td>2.153845</td>\n",
       "      <td>596.907934</td>\n",
       "      <td>105.832814</td>\n",
       "      <td>0.823817</td>\n",
       "      <td>613.679713</td>\n",
       "      <td>105.832814</td>\n",
       "    </tr>\n",
       "    <tr>\n",
       "      <th>75%</th>\n",
       "      <td>2.171537</td>\n",
       "      <td>745.952198</td>\n",
       "      <td>116.660812</td>\n",
       "      <td>2.685418</td>\n",
       "      <td>740.612167</td>\n",
       "      <td>116.660812</td>\n",
       "      <td>1.076075</td>\n",
       "      <td>658.501959</td>\n",
       "      <td>116.660812</td>\n",
       "    </tr>\n",
       "    <tr>\n",
       "      <th>max</th>\n",
       "      <td>3.359036</td>\n",
       "      <td>1013.690734</td>\n",
       "      <td>170.359913</td>\n",
       "      <td>3.149516</td>\n",
       "      <td>1009.864620</td>\n",
       "      <td>170.359913</td>\n",
       "      <td>3.119703</td>\n",
       "      <td>816.381060</td>\n",
       "      <td>170.359913</td>\n",
       "    </tr>\n",
       "  </tbody>\n",
       "</table>\n",
       "</div>"
      ],
      "text/plain": [
       "       err_mag_mx3    err_r_mx3  err_ang_mx3  err_mag_mx2    err_r_mx2  \\\n",
       "count   112.000000   112.000000    98.000000   115.000000   115.000000   \n",
       "mean      1.708790   542.145293   101.438478     2.156539   531.218733   \n",
       "std       0.727047   263.917057    27.460691     0.625118   251.130435   \n",
       "min       0.111400     9.102225    15.155884     0.386588     9.218313   \n",
       "25%       1.263753   348.696906    82.916111     1.643794   356.533943   \n",
       "50%       1.744043   606.238980   105.832814     2.153845   596.907934   \n",
       "75%       2.171537   745.952198   116.660812     2.685418   740.612167   \n",
       "max       3.359036  1013.690734   170.359913     3.149516  1009.864620   \n",
       "\n",
       "       err_ang_mx2  err_mag_mx1   err_r_mx1  err_ang_mx1  \n",
       "count    98.000000    21.000000   21.000000    98.000000  \n",
       "mean    101.438478     0.929675  563.367564   101.438478  \n",
       "std      27.460691     0.611878  186.577424    27.460691  \n",
       "min      15.155884     0.082680  156.328580    15.155884  \n",
       "25%      82.916111     0.627360  532.972339    82.916111  \n",
       "50%     105.832814     0.823817  613.679713   105.832814  \n",
       "75%     116.660812     1.076075  658.501959   116.660812  \n",
       "max     170.359913     3.119703  816.381060   170.359913  "
      ]
     },
     "execution_count": 7,
     "metadata": {},
     "output_type": "execute_result"
    }
   ],
   "source": [
    "df.describe()"
   ]
  },
  {
   "cell_type": "markdown",
   "metadata": {},
   "source": [
    "## Build a Regression Model\n"
   ]
  },
  {
   "cell_type": "code",
   "execution_count": 32,
   "metadata": {},
   "outputs": [],
   "source": [
    "def prepare_data(df, camera, image_nums=[\"1\", \"2\"]):\n",
    "    \n",
    "    x_train = []\n",
    "    y_train = []\n",
    "    for l in image_nums:\n",
    "            regex_txt = \"err_.*\" + camera + l\n",
    "            df_tmp = df.filter(regex=regex_txt)\n",
    "            df_tmp.dropna(inplace=True)\n",
    "            cols = [\"err_mag_\" + camera + l, \"err_ang_\"+ camera + l]\n",
    "            df_tmp = df.loc[:, cols]\n",
    "            y_train.append(df_tmp.as_matrix())\n",
    "            #cols = [\"err_r_\" + camera + l, \"x_img_\" + camera + l, \"y_img_\" + camera + l]\n",
    "            cols = [\"err_r_\" + camera + l]\n",
    "            df_tmp = df.loc[:, cols]\n",
    "            x_train.append(df_tmp.as_matrix())\n",
    "            \n",
    "    y_train = np.vstack(tuple(y_train))\n",
    "    x_train = np.vstack(tuple(x_train))\n",
    "    return x_train, y_train\n",
    "\n",
    "#y_train = np.reshape(df.err_mag_mx2.as_matrix(), (df.shape[0], 1))\n",
    "#x_train = np.reshape(df.err_r_mx2.as_matrix(), (df.shape[0], 1))\n",
    "\n",
    "x_train, y_train = prepare_data(df, camera, image_nums=[\"1\", \"2\"])\n",
    "\n",
    "# Create polynomial features\n",
    "#x_train_poly = np.hstack((x_train, np.power(x_train,2), np.power(x_train,3)))\n",
    "#poly = preprocessing.PolynomialFeatures(degree=3, interaction_only=False, include_bias=True)\n",
    "#x_train_poly=poly.fit_transform(x_train)\n",
    "\n",
    "# Fit a linear regression model\n",
    "#LR = linear_model.LinearRegression(normalize=True)\n",
    "#LR.fit(x_train_poly, y_train)"
   ]
  },
  {
   "cell_type": "code",
   "execution_count": 35,
   "metadata": {},
   "outputs": [
    {
     "data": {
      "text/plain": [
       "(14, 2)"
      ]
     },
     "execution_count": 35,
     "metadata": {},
     "output_type": "execute_result"
    }
   ],
   "source": [
    "y_train.shape"
   ]
  },
  {
   "cell_type": "code",
   "execution_count": null,
   "metadata": {},
   "outputs": [],
   "source": [
    "l = \"1\"\n",
    "cols = [\"err_mag_\" + camera + l, \"err_ang_\"+ camera + l]\n",
    "df_tmp = df.loc[:, cols].dropna()\n",
    "df_tmp.as_matrix().shape\n"
   ]
  },
  {
   "cell_type": "code",
   "execution_count": null,
   "metadata": {},
   "outputs": [],
   "source": [
    "df.loc[:, cols].dropna()"
   ]
  },
  {
   "cell_type": "code",
   "execution_count": null,
   "metadata": {},
   "outputs": [],
   "source": [
    "# Plot the predicted error magnitude vs \"true\" error magnitude\n",
    "fig, axes = plt.subplots(1,2, figsize=(15,6))\n",
    "y_pred = LR.predict(x_train_poly)\n",
    "axes[0].plot(y_train, y_pred, '.r')\n",
    "\n",
    "# Plot the absolute error\n",
    "abs_err = np.abs(y_train - y_pred) \n",
    "axes[1].plot(abs_err, '.b')"
   ]
  },
  {
   "cell_type": "code",
   "execution_count": null,
   "metadata": {},
   "outputs": [],
   "source": [
    "# Plot error vector's distance-to-center-pixel vs \"true \" error magnitude \n",
    "fig, ax = plt.subplots(figsize=(8,6))\n",
    "ax.plot(x_train,y_train, '.r')"
   ]
  },
  {
   "cell_type": "code",
   "execution_count": null,
   "metadata": {},
   "outputs": [],
   "source": [
    "# Plot error vector's distance-to-center-pixel vs error velctor angle\n",
    "fig, ax = plt.subplots(figsize=(8,6))\n",
    "ax.plot(x_train, df.err_ang_mx2.as_matrix(), '.r')"
   ]
  },
  {
   "cell_type": "code",
   "execution_count": null,
   "metadata": {},
   "outputs": [],
   "source": [
    "df.head()"
   ]
  },
  {
   "cell_type": "code",
   "execution_count": null,
   "metadata": {},
   "outputs": [],
   "source": [
    "LR.coef_"
   ]
  },
  {
   "cell_type": "code",
   "execution_count": null,
   "metadata": {},
   "outputs": [],
   "source": [
    "LR.intercept_"
   ]
  },
  {
   "cell_type": "markdown",
   "metadata": {},
   "source": [
    "## Model Evaluation"
   ]
  },
  {
   "cell_type": "code",
   "execution_count": null,
   "metadata": {
    "collapsed": true
   },
   "outputs": [],
   "source": []
  },
  {
   "cell_type": "code",
   "execution_count": null,
   "metadata": {
    "collapsed": true
   },
   "outputs": [],
   "source": [
    "    idx_err_r_mx = data.filter(regex=(\"err_r_\" + im_label)).notnull().any(axis=1)\n",
    "    df_err_r_mx = data.filter(regex=(\"err_r_\" + im_label)).loc[idx_err_r_mx]\n",
    "\n",
    "    idx_err_ang_mx = data.filter(regex=(\"err_ang_\" + im_label)).notnull().any(axis=1)\n",
    "    df_err_ang_mx = data.filter(regex=(\"err_ang_\" + im_label)).loc[idx_err_ang_mx]\n",
    "\n",
    "    idx_err_mag_mx = data.filter(regex=(\"err_mag_\" + im_label)).notnull().any(axis=1)\n",
    "    df_err_mag_mx = data.filter(regex=(\"err_mag_\" + im_label)).loc[idx_err_mag_mx]\n",
    "    \n",
    "    # Join the above dataframes\n",
    "    df = df_err_r_mx.join(df_err_mag_mx, how=\"outer\")\n",
    "    df = df.join(df_err_ang_mx, how=\"outer\")"
   ]
  },
  {
   "cell_type": "code",
   "execution_count": null,
   "metadata": {
    "collapsed": true
   },
   "outputs": [],
   "source": []
  }
 ],
 "metadata": {
  "kernelspec": {
   "display_name": "Python 2",
   "language": "python",
   "name": "python2"
  },
  "language_info": {
   "codemirror_mode": {
    "name": "ipython",
    "version": 2
   },
   "file_extension": ".py",
   "mimetype": "text/x-python",
   "name": "python",
   "nbconvert_exporter": "python",
   "pygments_lexer": "ipython2",
   "version": "2.7.13"
  }
 },
 "nbformat": 4,
 "nbformat_minor": 2
}
