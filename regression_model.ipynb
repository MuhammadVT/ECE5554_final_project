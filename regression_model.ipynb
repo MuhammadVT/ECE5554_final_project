{
 "cells": [
  {
   "cell_type": "code",
   "execution_count": 1,
   "metadata": {
    "collapsed": true
   },
   "outputs": [],
   "source": [
    "# Load packages\n",
    "import matplotlib.pyplot as plt\n",
    "import pandas as pd\n",
    "import numpy as np\n",
    "\n",
    "# Load custom modules\n",
    "import plotting_tools as pt"
   ]
  },
  {
   "cell_type": "code",
   "execution_count": 2,
   "metadata": {
    "collapsed": true
   },
   "outputs": [],
   "source": [
    "# Set the style of display\n",
    "plt.style.use(\"ggplot\")\n",
    "%matplotlib inline"
   ]
  },
  {
   "cell_type": "code",
   "execution_count": 3,
   "metadata": {
    "collapsed": true
   },
   "outputs": [],
   "source": [
    "data = pd.read_csv('./data/image_database.txt')"
   ]
  },
  {
   "cell_type": "code",
   "execution_count": 4,
   "metadata": {},
   "outputs": [
    {
     "data": {
      "text/plain": [
       "Index([u'starname', u'ra_act', u'dec_act', u'x_act_mx1', u'x_act_mx2',\n",
       "       u'x_act_mx3', u'x_act_my3', u'x_act_my4', u'x_act_px1', u'x_act_px2',\n",
       "       u'x_act_px3', u'x_act_py1', u'x_act_py2', u'x_act_py3', u'x_act_py4',\n",
       "       u'x_img_mx1', u'x_img_mx2', u'x_img_mx3', u'x_img_my3', u'x_img_my4',\n",
       "       u'x_img_px1', u'x_img_px2', u'x_img_px3', u'x_img_py1', u'x_img_py2',\n",
       "       u'x_img_py3', u'x_img_py4', u'y_act_mx1', u'y_act_mx2', u'y_act_mx3',\n",
       "       u'y_act_my3', u'y_act_my4', u'y_act_px1', u'y_act_px2', u'y_act_px3',\n",
       "       u'y_act_py1', u'y_act_py2', u'y_act_py3', u'y_act_py4', u'y_img_mx1',\n",
       "       u'y_img_mx2', u'y_img_mx3', u'y_img_my3', u'y_img_my4', u'y_img_px1',\n",
       "       u'y_img_px2', u'y_img_px3', u'y_img_py1', u'y_img_py2', u'y_img_py3',\n",
       "       u'y_img_py4', u'v_global_x', u'v_global_y', u'v_global_z',\n",
       "       u'err_mag_mx3', u'err_r_mx3', u'err_ang_mx3', u'err_mag_py3',\n",
       "       u'err_r_py3', u'err_ang_py3', u'err_mag_my3', u'err_r_my3',\n",
       "       u'err_ang_my3', u'err_mag_px1', u'err_r_px1', u'err_ang_px1',\n",
       "       u'err_mag_px3', u'err_r_px3', u'err_ang_px3', u'err_mag_mx2',\n",
       "       u'err_r_mx2', u'err_ang_mx2', u'err_mag_my4', u'err_r_my4',\n",
       "       u'err_ang_my4', u'err_mag_px2', u'err_r_px2', u'err_ang_px2',\n",
       "       u'err_mag_py4', u'err_r_py4', u'err_ang_py4', u'err_mag_py2',\n",
       "       u'err_r_py2', u'err_ang_py2', u'err_mag_mx1', u'err_r_mx1',\n",
       "       u'err_ang_mx1', u'err_mag_py1', u'err_r_py1', u'err_ang_py1'],\n",
       "      dtype='object')"
      ]
     },
     "execution_count": 4,
     "metadata": {},
     "output_type": "execute_result"
    }
   ],
   "source": [
    "data.columns"
   ]
  },
  {
   "cell_type": "code",
   "execution_count": 5,
   "metadata": {
    "collapsed": true
   },
   "outputs": [],
   "source": [
    "def fetch_data(camera, image_num):\n",
    "    \"\"\" Fetches the star data from a given image taken from a given camera\n",
    "    Parameters\n",
    "    ----------\n",
    "    camera : str\n",
    "        The camera name\n",
    "    image_num: str\n",
    "        The number of an image from a camera. \n",
    "        If set to \".\", all the images will be returned\n",
    "        \n",
    "    Returns\n",
    "    -------\n",
    "    Pandas.DataFrames\n",
    "        Returns a data fram with NaN entries removed\n",
    "    \"\"\"\n",
    "    # Load all the star data\n",
    "    data = pd.read_csv('./data/image_database.txt')\n",
    "    \n",
    "    # Fetch the data of interest set by \"camera\" and \"image_num\"\n",
    "    regex_txt = \"err_.*\" + camera + image_num\n",
    "    df = data.filter(regex=regex_txt)\n",
    "    \n",
    "    return df"
   ]
  },
  {
   "cell_type": "code",
   "execution_count": 6,
   "metadata": {},
   "outputs": [
    {
     "data": {
      "text/html": [
       "<div>\n",
       "<style scoped>\n",
       "    .dataframe tbody tr th:only-of-type {\n",
       "        vertical-align: middle;\n",
       "    }\n",
       "\n",
       "    .dataframe tbody tr th {\n",
       "        vertical-align: top;\n",
       "    }\n",
       "\n",
       "    .dataframe thead th {\n",
       "        text-align: right;\n",
       "    }\n",
       "</style>\n",
       "<table border=\"1\" class=\"dataframe\">\n",
       "  <thead>\n",
       "    <tr style=\"text-align: right;\">\n",
       "      <th></th>\n",
       "      <th>err_mag_mx3</th>\n",
       "      <th>err_r_mx3</th>\n",
       "      <th>err_ang_mx3</th>\n",
       "      <th>err_mag_mx2</th>\n",
       "      <th>err_r_mx2</th>\n",
       "      <th>err_ang_mx2</th>\n",
       "      <th>err_mag_mx1</th>\n",
       "      <th>err_r_mx1</th>\n",
       "      <th>err_ang_mx1</th>\n",
       "    </tr>\n",
       "  </thead>\n",
       "  <tbody>\n",
       "    <tr>\n",
       "      <th>0</th>\n",
       "      <td>NaN</td>\n",
       "      <td>NaN</td>\n",
       "      <td>84.859260</td>\n",
       "      <td>NaN</td>\n",
       "      <td>NaN</td>\n",
       "      <td>84.859260</td>\n",
       "      <td>NaN</td>\n",
       "      <td>NaN</td>\n",
       "      <td>84.859260</td>\n",
       "    </tr>\n",
       "    <tr>\n",
       "      <th>1</th>\n",
       "      <td>NaN</td>\n",
       "      <td>NaN</td>\n",
       "      <td>34.887684</td>\n",
       "      <td>NaN</td>\n",
       "      <td>NaN</td>\n",
       "      <td>34.887684</td>\n",
       "      <td>NaN</td>\n",
       "      <td>NaN</td>\n",
       "      <td>34.887684</td>\n",
       "    </tr>\n",
       "    <tr>\n",
       "      <th>2</th>\n",
       "      <td>NaN</td>\n",
       "      <td>NaN</td>\n",
       "      <td>94.018541</td>\n",
       "      <td>NaN</td>\n",
       "      <td>NaN</td>\n",
       "      <td>94.018541</td>\n",
       "      <td>NaN</td>\n",
       "      <td>NaN</td>\n",
       "      <td>94.018541</td>\n",
       "    </tr>\n",
       "    <tr>\n",
       "      <th>3</th>\n",
       "      <td>NaN</td>\n",
       "      <td>NaN</td>\n",
       "      <td>93.243282</td>\n",
       "      <td>NaN</td>\n",
       "      <td>NaN</td>\n",
       "      <td>93.243282</td>\n",
       "      <td>NaN</td>\n",
       "      <td>NaN</td>\n",
       "      <td>93.243282</td>\n",
       "    </tr>\n",
       "    <tr>\n",
       "      <th>4</th>\n",
       "      <td>NaN</td>\n",
       "      <td>NaN</td>\n",
       "      <td>93.064243</td>\n",
       "      <td>NaN</td>\n",
       "      <td>NaN</td>\n",
       "      <td>93.064243</td>\n",
       "      <td>NaN</td>\n",
       "      <td>NaN</td>\n",
       "      <td>93.064243</td>\n",
       "    </tr>\n",
       "  </tbody>\n",
       "</table>\n",
       "</div>"
      ],
      "text/plain": [
       "   err_mag_mx3  err_r_mx3  err_ang_mx3  err_mag_mx2  err_r_mx2  err_ang_mx2  \\\n",
       "0          NaN        NaN    84.859260          NaN        NaN    84.859260   \n",
       "1          NaN        NaN    34.887684          NaN        NaN    34.887684   \n",
       "2          NaN        NaN    94.018541          NaN        NaN    94.018541   \n",
       "3          NaN        NaN    93.243282          NaN        NaN    93.243282   \n",
       "4          NaN        NaN    93.064243          NaN        NaN    93.064243   \n",
       "\n",
       "   err_mag_mx1  err_r_mx1  err_ang_mx1  \n",
       "0          NaN        NaN    84.859260  \n",
       "1          NaN        NaN    34.887684  \n",
       "2          NaN        NaN    94.018541  \n",
       "3          NaN        NaN    93.243282  \n",
       "4          NaN        NaN    93.064243  "
      ]
     },
     "execution_count": 6,
     "metadata": {},
     "output_type": "execute_result"
    }
   ],
   "source": [
    "# Fetch all the data taken from camera \"mx\" \n",
    "camera = \"mx\"\n",
    "image_num = \".\"\n",
    "\n",
    "df = fetch_data(camera, image_num)\n",
    "df.head()"
   ]
  },
  {
   "cell_type": "code",
   "execution_count": 7,
   "metadata": {},
   "outputs": [
    {
     "data": {
      "text/html": [
       "<div>\n",
       "<style scoped>\n",
       "    .dataframe tbody tr th:only-of-type {\n",
       "        vertical-align: middle;\n",
       "    }\n",
       "\n",
       "    .dataframe tbody tr th {\n",
       "        vertical-align: top;\n",
       "    }\n",
       "\n",
       "    .dataframe thead th {\n",
       "        text-align: right;\n",
       "    }\n",
       "</style>\n",
       "<table border=\"1\" class=\"dataframe\">\n",
       "  <thead>\n",
       "    <tr style=\"text-align: right;\">\n",
       "      <th></th>\n",
       "      <th>err_mag_mx3</th>\n",
       "      <th>err_r_mx3</th>\n",
       "      <th>err_ang_mx3</th>\n",
       "      <th>err_mag_mx2</th>\n",
       "      <th>err_r_mx2</th>\n",
       "      <th>err_ang_mx2</th>\n",
       "      <th>err_mag_mx1</th>\n",
       "      <th>err_r_mx1</th>\n",
       "      <th>err_ang_mx1</th>\n",
       "    </tr>\n",
       "  </thead>\n",
       "  <tbody>\n",
       "    <tr>\n",
       "      <th>count</th>\n",
       "      <td>112.000000</td>\n",
       "      <td>112.000000</td>\n",
       "      <td>98.000000</td>\n",
       "      <td>115.000000</td>\n",
       "      <td>115.000000</td>\n",
       "      <td>98.000000</td>\n",
       "      <td>21.000000</td>\n",
       "      <td>21.000000</td>\n",
       "      <td>98.000000</td>\n",
       "    </tr>\n",
       "    <tr>\n",
       "      <th>mean</th>\n",
       "      <td>1.708790</td>\n",
       "      <td>542.145293</td>\n",
       "      <td>101.438478</td>\n",
       "      <td>2.156539</td>\n",
       "      <td>531.218733</td>\n",
       "      <td>101.438478</td>\n",
       "      <td>0.929675</td>\n",
       "      <td>563.367564</td>\n",
       "      <td>101.438478</td>\n",
       "    </tr>\n",
       "    <tr>\n",
       "      <th>std</th>\n",
       "      <td>0.727047</td>\n",
       "      <td>263.917057</td>\n",
       "      <td>27.460691</td>\n",
       "      <td>0.625118</td>\n",
       "      <td>251.130435</td>\n",
       "      <td>27.460691</td>\n",
       "      <td>0.611878</td>\n",
       "      <td>186.577424</td>\n",
       "      <td>27.460691</td>\n",
       "    </tr>\n",
       "    <tr>\n",
       "      <th>min</th>\n",
       "      <td>0.111400</td>\n",
       "      <td>9.102225</td>\n",
       "      <td>15.155884</td>\n",
       "      <td>0.386588</td>\n",
       "      <td>9.218313</td>\n",
       "      <td>15.155884</td>\n",
       "      <td>0.082680</td>\n",
       "      <td>156.328580</td>\n",
       "      <td>15.155884</td>\n",
       "    </tr>\n",
       "    <tr>\n",
       "      <th>25%</th>\n",
       "      <td>1.263753</td>\n",
       "      <td>348.696906</td>\n",
       "      <td>82.916111</td>\n",
       "      <td>1.643794</td>\n",
       "      <td>356.533943</td>\n",
       "      <td>82.916111</td>\n",
       "      <td>0.627360</td>\n",
       "      <td>532.972339</td>\n",
       "      <td>82.916111</td>\n",
       "    </tr>\n",
       "    <tr>\n",
       "      <th>50%</th>\n",
       "      <td>1.744043</td>\n",
       "      <td>606.238980</td>\n",
       "      <td>105.832814</td>\n",
       "      <td>2.153845</td>\n",
       "      <td>596.907934</td>\n",
       "      <td>105.832814</td>\n",
       "      <td>0.823817</td>\n",
       "      <td>613.679713</td>\n",
       "      <td>105.832814</td>\n",
       "    </tr>\n",
       "    <tr>\n",
       "      <th>75%</th>\n",
       "      <td>2.171537</td>\n",
       "      <td>745.952198</td>\n",
       "      <td>116.660812</td>\n",
       "      <td>2.685418</td>\n",
       "      <td>740.612167</td>\n",
       "      <td>116.660812</td>\n",
       "      <td>1.076075</td>\n",
       "      <td>658.501959</td>\n",
       "      <td>116.660812</td>\n",
       "    </tr>\n",
       "    <tr>\n",
       "      <th>max</th>\n",
       "      <td>3.359036</td>\n",
       "      <td>1013.690734</td>\n",
       "      <td>170.359913</td>\n",
       "      <td>3.149516</td>\n",
       "      <td>1009.864620</td>\n",
       "      <td>170.359913</td>\n",
       "      <td>3.119703</td>\n",
       "      <td>816.381060</td>\n",
       "      <td>170.359913</td>\n",
       "    </tr>\n",
       "  </tbody>\n",
       "</table>\n",
       "</div>"
      ],
      "text/plain": [
       "       err_mag_mx3    err_r_mx3  err_ang_mx3  err_mag_mx2    err_r_mx2  \\\n",
       "count   112.000000   112.000000    98.000000   115.000000   115.000000   \n",
       "mean      1.708790   542.145293   101.438478     2.156539   531.218733   \n",
       "std       0.727047   263.917057    27.460691     0.625118   251.130435   \n",
       "min       0.111400     9.102225    15.155884     0.386588     9.218313   \n",
       "25%       1.263753   348.696906    82.916111     1.643794   356.533943   \n",
       "50%       1.744043   606.238980   105.832814     2.153845   596.907934   \n",
       "75%       2.171537   745.952198   116.660812     2.685418   740.612167   \n",
       "max       3.359036  1013.690734   170.359913     3.149516  1009.864620   \n",
       "\n",
       "       err_ang_mx2  err_mag_mx1   err_r_mx1  err_ang_mx1  \n",
       "count    98.000000    21.000000   21.000000    98.000000  \n",
       "mean    101.438478     0.929675  563.367564   101.438478  \n",
       "std      27.460691     0.611878  186.577424    27.460691  \n",
       "min      15.155884     0.082680  156.328580    15.155884  \n",
       "25%      82.916111     0.627360  532.972339    82.916111  \n",
       "50%     105.832814     0.823817  613.679713   105.832814  \n",
       "75%     116.660812     1.076075  658.501959   116.660812  \n",
       "max     170.359913     3.119703  816.381060   170.359913  "
      ]
     },
     "execution_count": 7,
     "metadata": {},
     "output_type": "execute_result"
    }
   ],
   "source": [
    "df.describe()"
   ]
  },
  {
   "cell_type": "markdown",
   "metadata": {},
   "source": [
    "## Build a Regression Model\n"
   ]
  },
  {
   "cell_type": "markdown",
   "metadata": {},
   "source": [
    "### Create Features and Split the Data "
   ]
  },
  {
   "cell_type": "code",
   "execution_count": 8,
   "metadata": {},
   "outputs": [
    {
     "name": "stdout",
     "output_type": "stream",
     "text": [
      "Training set has 49 samples.\n",
      "Testing set has 41 samples.\n"
     ]
    },
    {
     "name": "stderr",
     "output_type": "stream",
     "text": [
      "/home/sd-spare/muhammad/software/anaconda2/lib/python2.7/site-packages/ipykernel_launcher.py:9: SettingWithCopyWarning: \n",
      "A value is trying to be set on a copy of a slice from a DataFrame\n",
      "\n",
      "See the caveats in the documentation: http://pandas.pydata.org/pandas-docs/stable/indexing.html#indexing-view-versus-copy\n",
      "  if __name__ == '__main__':\n"
     ]
    }
   ],
   "source": [
    "def prepare_data(df, camera, image_nums=[\"1\", \"2\"]):\n",
    "    \"\"\" Prepares the data for training and testing\n",
    "    \"\"\"\n",
    "    x = []\n",
    "    y = []\n",
    "    for l in image_nums:\n",
    "            regex_txt = \"err_.*\" + camera + l\n",
    "            dfn = df.filter(regex=regex_txt)\n",
    "            dfn.dropna(inplace=True)\n",
    "            cols = [\"err_mag_\" + camera + l, \"err_ang_\"+ camera + l]\n",
    "            df_tmp = dfn.loc[:, cols]\n",
    "            y.append(df_tmp.as_matrix())\n",
    "            #cols = [\"err_r_\" + camera + l, \"x_img_\" + camera + l, \"y_img_\" + camera + l]\n",
    "            cols = [\"err_r_\" + camera + l]\n",
    "            df_tmp = dfn.loc[:, cols]\n",
    "            x.append(df_tmp.as_matrix())\n",
    "            \n",
    "    y = np.vstack(tuple(y))\n",
    "    x = np.vstack(tuple(x))\n",
    "    return x, y\n",
    "\n",
    "#y_train = np.reshape(df.err_mag_mx2.as_matrix(), (df.shape[0], 1))\n",
    "#x_train = np.reshape(df.err_r_mx2.as_matrix(), (df.shape[0], 1))\n",
    "\n",
    "# Create the training and test datasets\n",
    "X_train, y_train = prepare_data(df, camera, image_nums=[\"1\", \"2\"])\n",
    "X_test, y_test = prepare_data(df, camera, image_nums=[\"3\"])\n",
    "\n",
    "# Create polynomial features\n",
    "#from sklearn import preprocessing\n",
    "#x_train_poly = np.hstack((x_train, np.power(x_train,2), np.power(x_train,3)))\n",
    "#poly = preprocessing.PolynomialFeatures(degree=3, interaction_only=False, include_bias=True)\n",
    "#x_train_poly=poly.fit_transform(x_train)\n",
    "\n",
    "# Show the results of the split\n",
    "print \"Training set has {} samples.\".format(X_train.shape[0])\n",
    "print \"Testing set has {} samples.\".format(X_test.shape[0])"
   ]
  },
  {
   "cell_type": "markdown",
   "metadata": {},
   "source": [
    "### Build Models"
   ]
  },
  {
   "cell_type": "markdown",
   "metadata": {},
   "source": [
    "#### Build a pipeline for model evaluation"
   ]
  },
  {
   "cell_type": "code",
   "execution_count": 9,
   "metadata": {
    "collapsed": true
   },
   "outputs": [],
   "source": [
    "# use mean absolute error as model eveluation metrix\n",
    "from sklearn.metrics import mean_absolute_error, mean_squared_error\n",
    "\n",
    "def train_predict(learner, sample_size, X_train, y_train, X_test, y_test): \n",
    "    \"\"\"\n",
    "    Parameters\n",
    "    ----------\n",
    "    learner :  \n",
    "        the learning algorithm to be trained and predicted on\n",
    "    sample_size : int\n",
    "        the size of samples (number) to be drawn from training set\n",
    "    X_train : Pandas.DataFrame \n",
    "        predictors in training set\n",
    "    y_train : Pandas.DataFrame\n",
    "        response in training set\n",
    "    X_test : Pandas.DataFrame\n",
    "        predictors in testing set\n",
    "    y_test : Pandas.DataFrame\n",
    "        response in testing set\n",
    "        \n",
    "    Returns\n",
    "    -------\n",
    "    dict\n",
    "        a dictionalry object that holdes various results related to model eveluation \n",
    "    \"\"\"\n",
    "    \n",
    "    from time import time\n",
    "    \n",
    "    results = {}\n",
    "    \n",
    "    # fit the learner to the training data using slicing with 'sample_size'\n",
    "    X_train_sample = X_train[:sample_size]\n",
    "    y_train_sample = y_train[:sample_size]\n",
    "    start = time() # Get start time\n",
    "    learner = learner.fit(X_train_sample, y_train_sample)\n",
    "    end = time() # Get end time\n",
    "    \n",
    "    # calculate the training time\n",
    "    results['train_time'] = end - start\n",
    "        \n",
    "    # get the predictions on the test set,\n",
    "    # then get predictions on the training set\n",
    "    start = time() # Get start time\n",
    "    predictions_test = learner.predict(X_test)\n",
    "    predictions_train = learner.predict(X_train_sample)\n",
    "    end = time() # Get end time\n",
    "    \n",
    "    # store the predictions\n",
    "    results['yhat_train'] = predictions_train\n",
    "    results['yhat_test'] = predictions_test\n",
    "    \n",
    "    # calculate the total prediction time\n",
    "    results['pred_time'] = end-start\n",
    "            \n",
    "    # compute mean_absolute_error on the training and testing sets\n",
    "    results['mean_absolute_error_train'] = mean_absolute_error(predictions_train, y_train_sample)\n",
    "    results['mean_absolute_error_test'] = mean_absolute_error(predictions_test, y_test)\n",
    "\n",
    "    # compute mean_squared_error on the training and testing sets\n",
    "    results['mean_squared_error_train'] = mean_squared_error(predictions_train, y_train_sample)\n",
    "    results['mean_squared_error_test'] = mean_squared_error(predictions_test, y_test)\n",
    "       \n",
    "    # some info messages\n",
    "    print \"{} trained on {} samples.\".format(learner.__class__.__name__, sample_size)\n",
    "        \n",
    "    # return the results\n",
    "    return results"
   ]
  },
  {
   "cell_type": "markdown",
   "metadata": {},
   "source": [
    "#### Build a baseline model"
   ]
  },
  {
   "cell_type": "code",
   "execution_count": 10,
   "metadata": {
    "collapsed": true
   },
   "outputs": [],
   "source": [
    "# Calculate MAE and MSE of the baseline model\n",
    "baseline_prediction_MAE_train = np.mean(np.abs(y_train - np.mean(y_train)))\n",
    "baseline_prediction_MAE_test = np.mean(np.abs(y_test - np.mean(y_test)))\n",
    "baseline_prediction_MSE_train = np.square(np.abs(y_train - np.mean(y_train))).mean()\n",
    "baseline_prediction_MSE_test = np.square(np.abs(y_test - np.mean(y_test))).mean()\n",
    "baseline_error_dict = {\"baseline_prediction_MAE_train\":baseline_prediction_MAE_train,\n",
    "                       \"baseline_prediction_MAE_test\":baseline_prediction_MAE_test,\n",
    "                       \"baseline_prediction_MSE_train\":baseline_prediction_MSE_train,\n",
    "                       \"baseline_prediction_MSE_test\":baseline_prediction_MSE_test}"
   ]
  },
  {
   "cell_type": "markdown",
   "metadata": {},
   "source": [
    "#### Build models"
   ]
  },
  {
   "cell_type": "code",
   "execution_count": 46,
   "metadata": {},
   "outputs": [],
   "source": [
    "from sklearn.linear_model import LinearRegression\n",
    "from sklearn.ensemble import GradientBoostingRegressor\n",
    "from sklearn.ensemble import RandomForestRegressor\n",
    "from sklearn.multioutput import MultiOutputRegressor\n",
    "\n",
    "# Initialize the three models\n",
    "# build a linear regression\n",
    "clf_LR = LinearRegression()\n",
    "\n",
    "# Fit a linear regression model\n",
    "#LR = linear_model.LinearRegression(normalize=True)\n",
    "#LR.fit(x_train_poly, y_train)\n",
    "\n",
    "# build a GradientBoosting Regressor model\n",
    "clf_GB = GradientBoostingRegressor(loss=\"ls\", learning_rate=0.1, n_estimators=10, random_state=16)\n",
    "\n",
    "# build a Random Forest model\n",
    "clf_RF = RandomForestRegressor(n_estimators=10, random_state=16)"
   ]
  },
  {
   "cell_type": "code",
   "execution_count": 14,
   "metadata": {},
   "outputs": [
    {
     "data": {
      "text/plain": [
       "{'baseline_prediction_MAE_test': 57.353000116822521,\n",
       " 'baseline_prediction_MAE_train': 57.093843029130859,\n",
       " 'baseline_prediction_MSE_test': 3450.7113215846312,\n",
       " 'baseline_prediction_MSE_train': 3425.9075439721059}"
      ]
     },
     "execution_count": 14,
     "metadata": {},
     "output_type": "execute_result"
    }
   ],
   "source": [
    "baseline_error_dict"
   ]
  },
  {
   "cell_type": "markdown",
   "metadata": {},
   "source": [
    "## Model Evaluation"
   ]
  },
  {
   "cell_type": "markdown",
   "metadata": {},
   "source": [
    "#### Evaluate the above three model results in terms of mean-absolute error (MAE) and mean-squared error (MSE) of the error magnitude"
   ]
  },
  {
   "cell_type": "code",
   "execution_count": 49,
   "metadata": {},
   "outputs": [
    {
     "name": "stdout",
     "output_type": "stream",
     "text": [
      "MultiOutputRegressor trained on 14 samples.\n",
      "MultiOutputRegressor trained on 24 samples.\n",
      "MultiOutputRegressor trained on 49 samples.\n",
      "MultiOutputRegressor trained on 14 samples.\n",
      "MultiOutputRegressor trained on 24 samples.\n",
      "MultiOutputRegressor trained on 49 samples.\n",
      "MultiOutputRegressor trained on 14 samples.\n",
      "MultiOutputRegressor trained on 24 samples.\n",
      "MultiOutputRegressor trained on 49 samples.\n"
     ]
    },
    {
     "data": {
      "image/png": "[encoded data removed]",
      "text/plain": [
       "<matplotlib.figure.Figure at 0x7fc48ab30350>"
      ]
     },
     "metadata": {},
     "output_type": "display_data"
    }
   ],
   "source": [
    "# calculate the number of samples for 1%, 10%, and 100% of the training data\n",
    "samples_30 = int(0.3 * len(X_train))\n",
    "samples_50 = int(0.5 * len(X_train))\n",
    "samples_100 = len(X_train)\n",
    "\n",
    "# collect results on the learners\n",
    "results = {}\n",
    "for clf in [clf_LR, clf_GB, clf_RF]:\n",
    "    clf_name = clf.__class__.__name__\n",
    "    results[clf_name] = {}\n",
    "    clf = MultiOutputRegressor(clf)\n",
    "    for i, samples in enumerate([samples_30, samples_50, samples_100]):\n",
    "        results[clf_name][i] = \\\n",
    "        train_predict(clf, samples, X_train, y_train, X_test, y_test)\n",
    "        \n",
    "# Run metrics visualization for the three models\n",
    "pt.evaluate(results, baseline_error_dict)"
   ]
  },
  {
   "cell_type": "markdown",
   "metadata": {},
   "source": [
    "#### Evaluate the above three model results in terms of absolute error (AE) of the error magnitude"
   ]
  },
  {
   "cell_type": "code",
   "execution_count": 59,
   "metadata": {},
   "outputs": [
    {
     "data": {
      "text/plain": [
       "(0, 3.5)"
      ]
     },
     "execution_count": 59,
     "metadata": {},
     "output_type": "execute_result"
    },
    {
     "data": {
      "image/png": "[encoded data removed]",
      "text/plain": [
       "<matplotlib.figure.Figure at 0x7fc48a413950>"
      ]
     },
     "metadata": {},
     "output_type": "display_data"
    }
   ],
   "source": [
    "fig, axes = plt.subplots(2,2, figsize=(15,12))\n",
    "plt.subplots_adjust(hspace=0.3)\n",
    "colors = ['cyan', 'brown', 'green']\n",
    "for i, clf in enumerate([clf_LR, clf_GB, clf_RF]):\n",
    "    # Plot the predicted error magnitude vs \"true\" error magnitude for training data\n",
    "    clf_name = clf.__class__.__name__\n",
    "    yhat_train = results[clf_name][2][\"yhat_train\"]\n",
    "    axes[0,0].plot(y_train[:,0], yhat_train[:,0], '.', color=colors[i])\n",
    "    axes[0,0].set_xlabel(\"Actual Error Magnetude\")\n",
    "    axes[0,0].set_ylabel(\"Predicted Error Magnetude\")\n",
    "    axes[0,0].set_title(\"Training Dateset\")\n",
    "    \n",
    "    # Plot the predicted error magnitude vs \"true\" error magnitude for testing data\n",
    "    yhat_test = results[clf_name][2][\"yhat_test\"]\n",
    "    axes[0,1].plot(y_test[:, 0], yhat_test[:, 0], '.', color=colors[i])\n",
    "    axes[0,1].set_xlabel(\"Actual Error Magnetude\")\n",
    "    axes[0,1].set_ylabel(\"Predicted Error Magnetude\")\n",
    "    axes[0,1].set_title(\"Testing Dateset\")\n",
    "    \n",
    "    # Plot the MAE for training data\n",
    "    AE_train = np.abs(yhat_train[:, 0] - y_train[:, 0])\n",
    "    axes[1,0].plot(AE_train, '.', color=colors[i])\n",
    "    axes[1,0].set_ylabel(\"Absolute Error\")\n",
    "    axes[1,0].set_xlabel(\"# of Starts\")\n",
    "    axes[1,0].set_title(\"Training Dateset\")\n",
    "    \n",
    "    # Plot the MAE for testing data\n",
    "    AE_test = np.abs(yhat_test[:, 0] - y_test[:, 0])\n",
    "    axes[1,1].plot(AE_test, '.', color=colors[i])\n",
    "    axes[1,1].set_ylabel(\"Absolute Error\")\n",
    "    axes[1,1].set_xlabel(\"# of Starts\")\n",
    "    axes[1,1].set_title(\"Testing Dateset\")\n",
    "    \n",
    "axes[0,0].set_xlim([0, 3.5])\n",
    "axes[0,1].set_xlim([0, 3.5])\n",
    "axes[0,0].set_ylim([0, 3.5])\n",
    "axes[0,1].set_ylim([0, 3.5])\n"
   ]
  },
  {
   "cell_type": "code",
   "execution_count": 53,
   "metadata": {},
   "outputs": [
    {
     "data": {
      "text/plain": [
       "array([[  8.98824232e-01,   8.92748417e+01],\n",
       "       [  1.15587975e+00,   1.14100076e+02],\n",
       "       [  6.27360343e-01,   1.27131826e+02],\n",
       "       [  8.26801064e-02,   8.76114924e+01],\n",
       "       [  9.39136305e-01,   1.06794186e+02],\n",
       "       [  3.70563085e-01,   1.23794360e+02],\n",
       "       [  1.15781259e+00,   1.45891081e+02],\n",
       "       [  2.82768403e+00,   9.36823347e+01],\n",
       "       [  2.35070904e+00,   1.28987928e+02],\n",
       "       [  2.26988216e+00,   1.14014828e+02],\n",
       "       [  2.34114374e+00,   1.19470011e+02],\n",
       "       [  2.44517852e+00,   1.16502640e+02],\n",
       "       [  1.55327300e+00,   8.92748417e+01],\n",
       "       [  2.44668143e+00,   1.14100076e+02],\n",
       "       [  1.59324606e+00,   1.27131826e+02],\n",
       "       [  1.52075277e+00,   1.14386325e+02],\n",
       "       [  2.03097834e+00,   1.32246819e+02],\n",
       "       [  1.71994709e+00,   1.12750680e+02],\n",
       "       [  3.11462309e+00,   1.51558843e+01],\n",
       "       [  2.57536580e+00,   1.17645686e+02],\n",
       "       [  1.61492105e+00,   8.57095652e+01],\n",
       "       [  2.98933856e+00,   1.15894365e+02],\n",
       "       [  1.60852852e+00,   1.16009129e+02],\n",
       "       [  3.05076253e+00,   1.16667297e+02],\n",
       "       [  2.80079167e+00,   1.22752367e+02],\n",
       "       [  1.61579021e+00,   1.14489974e+02],\n",
       "       [  1.82464928e+00,   1.17356628e+02],\n",
       "       [  1.52543371e+00,   1.15221781e+02],\n",
       "       [  2.54065503e+00,   1.21140464e+02],\n",
       "       [  1.53024344e+00,   1.16185276e+02],\n",
       "       [  2.13540184e+00,   1.16210497e+02],\n",
       "       [  1.42071531e+00,   1.00775942e+02],\n",
       "       [  1.43178211e+00,   1.22165275e+02],\n",
       "       [  2.35861591e+00,   1.70359913e+02],\n",
       "       [  1.09123783e+00,   8.12946243e+01],\n",
       "       [  3.12633523e+00,   1.13447707e+02],\n",
       "       [  1.98760409e+00,   8.76114924e+01],\n",
       "       [  1.90715810e+00,   1.41451933e+02],\n",
       "       [  2.58789741e+00,   1.40958991e+02],\n",
       "       [  2.83150861e+00,   1.66576128e+01],\n",
       "       [  1.64234010e+00,   1.12681907e+02],\n",
       "       [  1.96257917e+00,   1.12809584e+02],\n",
       "       [  1.62622415e+00,   1.06794186e+02],\n",
       "       [  1.65819721e+00,   1.60404303e+02],\n",
       "       [  1.27831647e+00,   9.95586672e+01],\n",
       "       [  1.60791573e+00,   1.23794360e+02],\n",
       "       [  2.80742818e+00,   1.24666879e+02],\n",
       "       [  1.70133183e+00,   1.45891081e+02],\n",
       "       [  2.36804244e+00,   1.13385943e+02]])"
      ]
     },
     "execution_count": 53,
     "metadata": {},
     "output_type": "execute_result"
    }
   ],
   "source": [
    "yhat_train = results['LinearRegression'][2][\"yhat_train\"]\n",
    "y_train"
   ]
  },
  {
   "cell_type": "code",
   "execution_count": null,
   "metadata": {
    "collapsed": true
   },
   "outputs": [],
   "source": [
    "# Plot error vector's distance-to-center-pixel vs \"true \" error magnitude \n",
    "fig, ax = plt.subplots(figsize=(8,6))\n",
    "ax.plot(x_train,y_train, '.r')"
   ]
  },
  {
   "cell_type": "code",
   "execution_count": null,
   "metadata": {
    "collapsed": true
   },
   "outputs": [],
   "source": [
    "# Plot error vector's distance-to-center-pixel vs error velctor angle\n",
    "fig, ax = plt.subplots(figsize=(8,6))\n",
    "ax.plot(x_train, df.err_ang_mx2.as_matrix(), '.r')"
   ]
  },
  {
   "cell_type": "code",
   "execution_count": null,
   "metadata": {
    "collapsed": true
   },
   "outputs": [],
   "source": [
    "df.head()"
   ]
  },
  {
   "cell_type": "code",
   "execution_count": null,
   "metadata": {
    "collapsed": true
   },
   "outputs": [],
   "source": [
    "LR.coef_"
   ]
  },
  {
   "cell_type": "code",
   "execution_count": null,
   "metadata": {
    "collapsed": true
   },
   "outputs": [],
   "source": [
    "LR.intercept_"
   ]
  },
  {
   "cell_type": "markdown",
   "metadata": {},
   "source": [
    "## Model Evaluation"
   ]
  }
 ],
 "metadata": {
  "kernelspec": {
   "display_name": "Python 2",
   "language": "python",
   "name": "python2"
  },
  "language_info": {
   "codemirror_mode": {
    "name": "ipython",
    "version": 2
   },
   "file_extension": ".py",
   "mimetype": "text/x-python",
   "name": "python",
   "nbconvert_exporter": "python",
   "pygments_lexer": "ipython2",
   "version": "2.7.13"
  }
 },
 "nbformat": 4,
 "nbformat_minor": 2
}
