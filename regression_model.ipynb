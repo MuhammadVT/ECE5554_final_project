{
 "cells": [
  {
   "cell_type": "code",
   "execution_count": 2,
   "metadata": {
    "collapsed": true
   },
   "outputs": [],
   "source": [
    "# Load packages\n",
    "import matplotlib.pyplot as plt\n",
    "import pandas as pd\n",
    "from sklearn import preprocessing\n",
    "from sklearn import linear_model"
   ]
  },
  {
   "cell_type": "code",
   "execution_count": 3,
   "metadata": {
    "collapsed": true
   },
   "outputs": [],
   "source": [
    "# Set the style of display\n",
    "plt.style.use(\"ggplot\")\n",
    "%matplotlib inline"
   ]
  },
  {
   "cell_type": "code",
   "execution_count": 4,
   "metadata": {},
   "outputs": [
    {
     "data": {
      "text/html": [
       "<div>\n",
       "<style scoped>\n",
       "    .dataframe tbody tr th:only-of-type {\n",
       "        vertical-align: middle;\n",
       "    }\n",
       "\n",
       "    .dataframe tbody tr th {\n",
       "        vertical-align: top;\n",
       "    }\n",
       "\n",
       "    .dataframe thead th {\n",
       "        text-align: right;\n",
       "    }\n",
       "</style>\n",
       "<table border=\"1\" class=\"dataframe\">\n",
       "  <thead>\n",
       "    <tr style=\"text-align: right;\">\n",
       "      <th></th>\n",
       "      <th>starname</th>\n",
       "      <th>ra_act</th>\n",
       "      <th>dec_act</th>\n",
       "      <th>x_act_mx1</th>\n",
       "      <th>x_act_mx2</th>\n",
       "      <th>x_act_mx3</th>\n",
       "      <th>x_act_my3</th>\n",
       "      <th>x_act_my4</th>\n",
       "      <th>x_act_px1</th>\n",
       "      <th>x_act_px2</th>\n",
       "      <th>...</th>\n",
       "      <th>err_ang_py4</th>\n",
       "      <th>err_mag_py2</th>\n",
       "      <th>err_r_py2</th>\n",
       "      <th>err_ang_py2</th>\n",
       "      <th>err_mag_mx1</th>\n",
       "      <th>err_r_mx1</th>\n",
       "      <th>err_ang_mx1</th>\n",
       "      <th>err_mag_py1</th>\n",
       "      <th>err_r_py1</th>\n",
       "      <th>err_ang_py1</th>\n",
       "    </tr>\n",
       "  </thead>\n",
       "  <tbody>\n",
       "    <tr>\n",
       "      <th>0</th>\n",
       "      <td>12Li</td>\n",
       "      <td>223.584</td>\n",
       "      <td>-24.642</td>\n",
       "      <td>NaN</td>\n",
       "      <td>NaN</td>\n",
       "      <td>NaN</td>\n",
       "      <td>NaN</td>\n",
       "      <td>NaN</td>\n",
       "      <td>NaN</td>\n",
       "      <td>NaN</td>\n",
       "      <td>...</td>\n",
       "      <td>84.859260</td>\n",
       "      <td>NaN</td>\n",
       "      <td>NaN</td>\n",
       "      <td>84.859260</td>\n",
       "      <td>NaN</td>\n",
       "      <td>NaN</td>\n",
       "      <td>84.859260</td>\n",
       "      <td>3.647069</td>\n",
       "      <td>685.266791</td>\n",
       "      <td>84.859260</td>\n",
       "    </tr>\n",
       "    <tr>\n",
       "      <th>1</th>\n",
       "      <td>1Cen</td>\n",
       "      <td>206.422</td>\n",
       "      <td>-33.044</td>\n",
       "      <td>NaN</td>\n",
       "      <td>NaN</td>\n",
       "      <td>NaN</td>\n",
       "      <td>NaN</td>\n",
       "      <td>NaN</td>\n",
       "      <td>NaN</td>\n",
       "      <td>NaN</td>\n",
       "      <td>...</td>\n",
       "      <td>34.887684</td>\n",
       "      <td>NaN</td>\n",
       "      <td>NaN</td>\n",
       "      <td>34.887684</td>\n",
       "      <td>NaN</td>\n",
       "      <td>NaN</td>\n",
       "      <td>34.887684</td>\n",
       "      <td>1.757048</td>\n",
       "      <td>169.152306</td>\n",
       "      <td>34.887684</td>\n",
       "    </tr>\n",
       "    <tr>\n",
       "      <th>2</th>\n",
       "      <td>1Lup</td>\n",
       "      <td>228.656</td>\n",
       "      <td>-31.519</td>\n",
       "      <td>NaN</td>\n",
       "      <td>NaN</td>\n",
       "      <td>NaN</td>\n",
       "      <td>NaN</td>\n",
       "      <td>NaN</td>\n",
       "      <td>NaN</td>\n",
       "      <td>NaN</td>\n",
       "      <td>...</td>\n",
       "      <td>94.018541</td>\n",
       "      <td>NaN</td>\n",
       "      <td>NaN</td>\n",
       "      <td>94.018541</td>\n",
       "      <td>NaN</td>\n",
       "      <td>NaN</td>\n",
       "      <td>94.018541</td>\n",
       "      <td>3.190011</td>\n",
       "      <td>675.213623</td>\n",
       "      <td>94.018541</td>\n",
       "    </tr>\n",
       "    <tr>\n",
       "      <th>3</th>\n",
       "      <td>2Cen</td>\n",
       "      <td>207.361</td>\n",
       "      <td>-34.451</td>\n",
       "      <td>NaN</td>\n",
       "      <td>NaN</td>\n",
       "      <td>NaN</td>\n",
       "      <td>NaN</td>\n",
       "      <td>NaN</td>\n",
       "      <td>NaN</td>\n",
       "      <td>NaN</td>\n",
       "      <td>...</td>\n",
       "      <td>93.243282</td>\n",
       "      <td>NaN</td>\n",
       "      <td>NaN</td>\n",
       "      <td>93.243282</td>\n",
       "      <td>NaN</td>\n",
       "      <td>NaN</td>\n",
       "      <td>93.243282</td>\n",
       "      <td>1.435067</td>\n",
       "      <td>138.516537</td>\n",
       "      <td>93.243282</td>\n",
       "    </tr>\n",
       "    <tr>\n",
       "      <th>4</th>\n",
       "      <td>2Lup</td>\n",
       "      <td>229.458</td>\n",
       "      <td>-30.149</td>\n",
       "      <td>NaN</td>\n",
       "      <td>NaN</td>\n",
       "      <td>NaN</td>\n",
       "      <td>NaN</td>\n",
       "      <td>NaN</td>\n",
       "      <td>NaN</td>\n",
       "      <td>NaN</td>\n",
       "      <td>...</td>\n",
       "      <td>93.064243</td>\n",
       "      <td>NaN</td>\n",
       "      <td>NaN</td>\n",
       "      <td>93.064243</td>\n",
       "      <td>NaN</td>\n",
       "      <td>NaN</td>\n",
       "      <td>93.064243</td>\n",
       "      <td>3.538710</td>\n",
       "      <td>719.215056</td>\n",
       "      <td>93.064243</td>\n",
       "    </tr>\n",
       "  </tbody>\n",
       "</table>\n",
       "<p>5 rows × 90 columns</p>\n",
       "</div>"
      ],
      "text/plain": [
       "  starname   ra_act  dec_act  x_act_mx1  x_act_mx2  x_act_mx3  x_act_my3  \\\n",
       "0     12Li  223.584  -24.642        NaN        NaN        NaN        NaN   \n",
       "1     1Cen  206.422  -33.044        NaN        NaN        NaN        NaN   \n",
       "2     1Lup  228.656  -31.519        NaN        NaN        NaN        NaN   \n",
       "3     2Cen  207.361  -34.451        NaN        NaN        NaN        NaN   \n",
       "4     2Lup  229.458  -30.149        NaN        NaN        NaN        NaN   \n",
       "\n",
       "   x_act_my4  x_act_px1  x_act_px2     ...       err_ang_py4  err_mag_py2  \\\n",
       "0        NaN        NaN        NaN     ...         84.859260          NaN   \n",
       "1        NaN        NaN        NaN     ...         34.887684          NaN   \n",
       "2        NaN        NaN        NaN     ...         94.018541          NaN   \n",
       "3        NaN        NaN        NaN     ...         93.243282          NaN   \n",
       "4        NaN        NaN        NaN     ...         93.064243          NaN   \n",
       "\n",
       "   err_r_py2  err_ang_py2  err_mag_mx1  err_r_mx1  err_ang_mx1  err_mag_py1  \\\n",
       "0        NaN    84.859260          NaN        NaN    84.859260     3.647069   \n",
       "1        NaN    34.887684          NaN        NaN    34.887684     1.757048   \n",
       "2        NaN    94.018541          NaN        NaN    94.018541     3.190011   \n",
       "3        NaN    93.243282          NaN        NaN    93.243282     1.435067   \n",
       "4        NaN    93.064243          NaN        NaN    93.064243     3.538710   \n",
       "\n",
       "    err_r_py1  err_ang_py1  \n",
       "0  685.266791    84.859260  \n",
       "1  169.152306    34.887684  \n",
       "2  675.213623    94.018541  \n",
       "3  138.516537    93.243282  \n",
       "4  719.215056    93.064243  \n",
       "\n",
       "[5 rows x 90 columns]"
      ]
     },
     "execution_count": 4,
     "metadata": {},
     "output_type": "execute_result"
    }
   ],
   "source": [
    "# Load the star data\n",
    "data = pd.read_csv('./data/image_database.txt')\n",
    "data.head()"
   ]
  },
  {
   "cell_type": "code",
   "execution_count": 7,
   "metadata": {
    "collapsed": true
   },
   "outputs": [],
   "source": [
    "def fetch_data(camera, image_num):\n",
    "    \"\"\" Fetches the star data from a given image taken from a given camera\n",
    "    Parameters\n",
    "    ----------\n",
    "    camera : str\n",
    "        The camera name\n",
    "    image_num: str\n",
    "        The number of an image from a camera. \n",
    "        If set to \".\" all the images will be returned\n",
    "        \n",
    "    Returns\n",
    "    -------\n",
    "    Pandas.DataFrames\n",
    "        Returns a data fram with NaN entries removed\n",
    "    \"\"\"\n",
    "    im_label = camera + image_num\n",
    "    idx_err_r_mx = data.filter(regex=(\"err_r_\" + im_label)).notnull().any(axis=1)\n",
    "    df_err_r_mx = data.filter(regex=(\"err_r_\" + im_label)).loc[idx_err_r_mx]\n",
    "\n",
    "    idx_err_ang_mx = data.filter(regex=(\"err_ang_\" + im_label)).notnull().any(axis=1)\n",
    "    df_err_ang_mx = data.filter(regex=(\"err_ang_\" + im_label)).loc[idx_err_ang_mx]\n",
    "\n",
    "    idx_err_mag_mx = data.filter(regex=(\"err_mag_\" + im_label)).notnull().any(axis=1)\n",
    "    df_err_mag_mx = data.filter(regex=(\"err_mag_\" + im_label)).loc[idx_err_mag_mx]\n",
    "\n",
    "    # Join the above dataframes and remove NaN rows\n",
    "    df = df_err_r_mx.join(df_err_mag_mx)\n",
    "    df = df.join(df_err_ang_mx)\n",
    "    df.dropna(inplace=True)\n",
    "    \n",
    "    return df\n",
    " \n",
    "camera = \"mx\"\n",
    "image_num = \"2\"\n",
    "\n",
    "df = prepare_data(camera, image_num)"
   ]
  },
  {
   "cell_type": "code",
   "execution_count": 8,
   "metadata": {},
   "outputs": [
    {
     "data": {
      "text/html": [
       "<div>\n",
       "<style scoped>\n",
       "    .dataframe tbody tr th:only-of-type {\n",
       "        vertical-align: middle;\n",
       "    }\n",
       "\n",
       "    .dataframe tbody tr th {\n",
       "        vertical-align: top;\n",
       "    }\n",
       "\n",
       "    .dataframe thead th {\n",
       "        text-align: right;\n",
       "    }\n",
       "</style>\n",
       "<table border=\"1\" class=\"dataframe\">\n",
       "  <thead>\n",
       "    <tr style=\"text-align: right;\">\n",
       "      <th></th>\n",
       "      <th>err_r_mx2</th>\n",
       "      <th>err_mag_mx2</th>\n",
       "      <th>err_ang_mx2</th>\n",
       "    </tr>\n",
       "  </thead>\n",
       "  <tbody>\n",
       "    <tr>\n",
       "      <th>35</th>\n",
       "      <td>770.984141</td>\n",
       "      <td>2.827684</td>\n",
       "      <td>93.682335</td>\n",
       "    </tr>\n",
       "    <tr>\n",
       "      <th>36</th>\n",
       "      <td>460.124584</td>\n",
       "      <td>2.350709</td>\n",
       "      <td>128.987928</td>\n",
       "    </tr>\n",
       "    <tr>\n",
       "      <th>43</th>\n",
       "      <td>697.969711</td>\n",
       "      <td>2.269882</td>\n",
       "      <td>114.014828</td>\n",
       "    </tr>\n",
       "    <tr>\n",
       "      <th>49</th>\n",
       "      <td>640.854338</td>\n",
       "      <td>2.341144</td>\n",
       "      <td>119.470011</td>\n",
       "    </tr>\n",
       "    <tr>\n",
       "      <th>52</th>\n",
       "      <td>664.875172</td>\n",
       "      <td>2.445179</td>\n",
       "      <td>116.502640</td>\n",
       "    </tr>\n",
       "  </tbody>\n",
       "</table>\n",
       "</div>"
      ],
      "text/plain": [
       "     err_r_mx2  err_mag_mx2  err_ang_mx2\n",
       "35  770.984141     2.827684    93.682335\n",
       "36  460.124584     2.350709   128.987928\n",
       "43  697.969711     2.269882   114.014828\n",
       "49  640.854338     2.341144   119.470011\n",
       "52  664.875172     2.445179   116.502640"
      ]
     },
     "execution_count": 8,
     "metadata": {},
     "output_type": "execute_result"
    }
   ],
   "source": [
    "df.head()"
   ]
  },
  {
   "cell_type": "code",
   "execution_count": 9,
   "metadata": {},
   "outputs": [
    {
     "data": {
      "text/html": [
       "<div>\n",
       "<style scoped>\n",
       "    .dataframe tbody tr th:only-of-type {\n",
       "        vertical-align: middle;\n",
       "    }\n",
       "\n",
       "    .dataframe tbody tr th {\n",
       "        vertical-align: top;\n",
       "    }\n",
       "\n",
       "    .dataframe thead th {\n",
       "        text-align: right;\n",
       "    }\n",
       "</style>\n",
       "<table border=\"1\" class=\"dataframe\">\n",
       "  <thead>\n",
       "    <tr style=\"text-align: right;\">\n",
       "      <th></th>\n",
       "      <th>err_r_mx2</th>\n",
       "      <th>err_mag_mx2</th>\n",
       "      <th>err_ang_mx2</th>\n",
       "    </tr>\n",
       "  </thead>\n",
       "  <tbody>\n",
       "    <tr>\n",
       "      <th>count</th>\n",
       "      <td>42.000000</td>\n",
       "      <td>42.000000</td>\n",
       "      <td>42.000000</td>\n",
       "    </tr>\n",
       "    <tr>\n",
       "      <th>mean</th>\n",
       "      <td>516.026965</td>\n",
       "      <td>2.081457</td>\n",
       "      <td>112.564229</td>\n",
       "    </tr>\n",
       "    <tr>\n",
       "      <th>std</th>\n",
       "      <td>261.100464</td>\n",
       "      <td>0.567165</td>\n",
       "      <td>28.041184</td>\n",
       "    </tr>\n",
       "    <tr>\n",
       "      <th>min</th>\n",
       "      <td>40.450732</td>\n",
       "      <td>1.091238</td>\n",
       "      <td>15.155884</td>\n",
       "    </tr>\n",
       "    <tr>\n",
       "      <th>25%</th>\n",
       "      <td>269.642318</td>\n",
       "      <td>1.610127</td>\n",
       "      <td>112.699100</td>\n",
       "    </tr>\n",
       "    <tr>\n",
       "      <th>50%</th>\n",
       "      <td>611.997707</td>\n",
       "      <td>1.975092</td>\n",
       "      <td>115.951747</td>\n",
       "    </tr>\n",
       "    <tr>\n",
       "      <th>75%</th>\n",
       "      <td>730.613785</td>\n",
       "      <td>2.517162</td>\n",
       "      <td>122.605594</td>\n",
       "    </tr>\n",
       "    <tr>\n",
       "      <th>max</th>\n",
       "      <td>944.161383</td>\n",
       "      <td>3.126335</td>\n",
       "      <td>170.359913</td>\n",
       "    </tr>\n",
       "  </tbody>\n",
       "</table>\n",
       "</div>"
      ],
      "text/plain": [
       "        err_r_mx2  err_mag_mx2  err_ang_mx2\n",
       "count   42.000000    42.000000    42.000000\n",
       "mean   516.026965     2.081457   112.564229\n",
       "std    261.100464     0.567165    28.041184\n",
       "min     40.450732     1.091238    15.155884\n",
       "25%    269.642318     1.610127   112.699100\n",
       "50%    611.997707     1.975092   115.951747\n",
       "75%    730.613785     2.517162   122.605594\n",
       "max    944.161383     3.126335   170.359913"
      ]
     },
     "execution_count": 9,
     "metadata": {},
     "output_type": "execute_result"
    }
   ],
   "source": [
    "df.describe()"
   ]
  },
  {
   "cell_type": "markdown",
   "metadata": {},
   "source": [
    "## Build a Regression Model\n"
   ]
  },
  {
   "cell_type": "code",
   "execution_count": 98,
   "metadata": {},
   "outputs": [
    {
     "data": {
      "text/plain": [
       "LinearRegression(copy_X=True, fit_intercept=True, n_jobs=1, normalize=True)"
      ]
     },
     "execution_count": 98,
     "metadata": {},
     "output_type": "execute_result"
    }
   ],
   "source": [
    "y_train = np.reshape(df.err_mag_mx2.as_matrix(), (df.shape[0], 1))\n",
    "x_train = np.reshape(df.err_r_mx2.as_matrix(), (df.shape[0], 1))\n",
    "\n",
    "# Create polynomial features\n",
    "x_train_poly = np.hstack((x_train, np.power(x_train,2), np.power(x_train,3)))\n",
    "#poly = preprocessing.PolynomialFeatures(degree=3, interaction_only=False, include_bias=True)\n",
    "#x_train_poly=poly.fit_transform(x_train)\n",
    "\n",
    "# Fit a linear regression model\n",
    "LR = linear_model.LinearRegression(normalize=True)\n",
    "LR.fit(x_train_poly, y_train)"
   ]
  },
  {
   "cell_type": "code",
   "execution_count": 99,
   "metadata": {},
   "outputs": [
    {
     "data": {
      "text/plain": [
       "[<matplotlib.lines.Line2D at 0x7f4654026850>]"
      ]
     },
     "execution_count": 99,
     "metadata": {},
     "output_type": "execute_result"
    },
    {
     "data": {
      "image/png": "[encoded data removed]",
      "text/plain": [
       "<matplotlib.figure.Figure at 0x7f4654026190>"
      ]
     },
     "metadata": {},
     "output_type": "display_data"
    }
   ],
   "source": [
    "# Plot the predicted error magnitude vs \"true\" error magnitude\n",
    "fig, axes = plt.subplots(1,2, figsize=(15,6))\n",
    "y_pred = LR.predict(x_train_poly)\n",
    "axes[0].plot(y_train, y_pred, '.r')\n",
    "\n",
    "# Plot the absolute error\n",
    "abs_err = np.abs(y_train - y_pred) \n",
    "axes[1].plot(abs_err, '.b')"
   ]
  },
  {
   "cell_type": "code",
   "execution_count": 100,
   "metadata": {},
   "outputs": [
    {
     "data": {
      "text/plain": [
       "[<matplotlib.lines.Line2D at 0x7f4653f70c10>]"
      ]
     },
     "execution_count": 100,
     "metadata": {},
     "output_type": "execute_result"
    },
    {
     "data": {
      "image/png": "[encoded data removed]",
      "text/plain": [
       "<matplotlib.figure.Figure at 0x7f4653f70c50>"
      ]
     },
     "metadata": {},
     "output_type": "display_data"
    }
   ],
   "source": [
    "# Plot error vector's distance-to-center-pixel vs \"true \" error magnitude \n",
    "fig, ax = plt.subplots(figsize=(8,6))\n",
    "ax.plot(x_train,y_train, '.r')"
   ]
  },
  {
   "cell_type": "code",
   "execution_count": 93,
   "metadata": {},
   "outputs": [
    {
     "ename": "AttributeError",
     "evalue": "'DataFrame' object has no attribute 'err_ang_mx2'",
     "output_type": "error",
     "traceback": [
      "\u001b[0;31m---------------------------------------------------------------------------\u001b[0m",
      "\u001b[0;31mAttributeError\u001b[0m                            Traceback (most recent call last)",
      "\u001b[0;32m<ipython-input-93-8ae15cd5300a>\u001b[0m in \u001b[0;36m<module>\u001b[0;34m()\u001b[0m\n\u001b[1;32m      1\u001b[0m \u001b[0;31m# Plot error vector's distance-to-center-pixel vs error velctor angle\u001b[0m\u001b[0;34m\u001b[0m\u001b[0;34m\u001b[0m\u001b[0m\n\u001b[1;32m      2\u001b[0m \u001b[0mfig\u001b[0m\u001b[0;34m,\u001b[0m \u001b[0max\u001b[0m \u001b[0;34m=\u001b[0m \u001b[0mplt\u001b[0m\u001b[0;34m.\u001b[0m\u001b[0msubplots\u001b[0m\u001b[0;34m(\u001b[0m\u001b[0mfigsize\u001b[0m\u001b[0;34m=\u001b[0m\u001b[0;34m(\u001b[0m\u001b[0;36m8\u001b[0m\u001b[0;34m,\u001b[0m\u001b[0;36m6\u001b[0m\u001b[0;34m)\u001b[0m\u001b[0;34m)\u001b[0m\u001b[0;34m\u001b[0m\u001b[0m\n\u001b[0;32m----> 3\u001b[0;31m \u001b[0max\u001b[0m\u001b[0;34m.\u001b[0m\u001b[0mplot\u001b[0m\u001b[0;34m(\u001b[0m\u001b[0mx_train\u001b[0m\u001b[0;34m,\u001b[0m \u001b[0mdf\u001b[0m\u001b[0;34m.\u001b[0m\u001b[0merr_ang_mx2\u001b[0m\u001b[0;34m.\u001b[0m\u001b[0mas_matrix\u001b[0m\u001b[0;34m(\u001b[0m\u001b[0;34m)\u001b[0m\u001b[0;34m,\u001b[0m \u001b[0;34m'.r'\u001b[0m\u001b[0;34m)\u001b[0m\u001b[0;34m\u001b[0m\u001b[0m\n\u001b[0m",
      "\u001b[0;32m/home/sd-spare/muhammad/software/anaconda2/lib/python2.7/site-packages/pandas/core/generic.pyc\u001b[0m in \u001b[0;36m__getattr__\u001b[0;34m(self, name)\u001b[0m\n\u001b[1;32m   3612\u001b[0m             \u001b[0;32mif\u001b[0m \u001b[0mname\u001b[0m \u001b[0;32min\u001b[0m \u001b[0mself\u001b[0m\u001b[0;34m.\u001b[0m\u001b[0m_info_axis\u001b[0m\u001b[0;34m:\u001b[0m\u001b[0;34m\u001b[0m\u001b[0m\n\u001b[1;32m   3613\u001b[0m                 \u001b[0;32mreturn\u001b[0m \u001b[0mself\u001b[0m\u001b[0;34m[\u001b[0m\u001b[0mname\u001b[0m\u001b[0;34m]\u001b[0m\u001b[0;34m\u001b[0m\u001b[0m\n\u001b[0;32m-> 3614\u001b[0;31m             \u001b[0;32mreturn\u001b[0m \u001b[0mobject\u001b[0m\u001b[0;34m.\u001b[0m\u001b[0m__getattribute__\u001b[0m\u001b[0;34m(\u001b[0m\u001b[0mself\u001b[0m\u001b[0;34m,\u001b[0m \u001b[0mname\u001b[0m\u001b[0;34m)\u001b[0m\u001b[0;34m\u001b[0m\u001b[0m\n\u001b[0m\u001b[1;32m   3615\u001b[0m \u001b[0;34m\u001b[0m\u001b[0m\n\u001b[1;32m   3616\u001b[0m     \u001b[0;32mdef\u001b[0m \u001b[0m__setattr__\u001b[0m\u001b[0;34m(\u001b[0m\u001b[0mself\u001b[0m\u001b[0;34m,\u001b[0m \u001b[0mname\u001b[0m\u001b[0;34m,\u001b[0m \u001b[0mvalue\u001b[0m\u001b[0;34m)\u001b[0m\u001b[0;34m:\u001b[0m\u001b[0;34m\u001b[0m\u001b[0m\n",
      "\u001b[0;31mAttributeError\u001b[0m: 'DataFrame' object has no attribute 'err_ang_mx2'"
     ]
    },
    {
     "data": {
      "image/png": "[encoded data removed]",
      "text/plain": [
       "<matplotlib.figure.Figure at 0x7f46547619d0>"
      ]
     },
     "metadata": {},
     "output_type": "display_data"
    }
   ],
   "source": [
    "# Plot error vector's distance-to-center-pixel vs error velctor angle\n",
    "fig, ax = plt.subplots(figsize=(8,6))\n",
    "ax.plot(x_train, df.err_ang_mx2.as_matrix(), '.r')"
   ]
  },
  {
   "cell_type": "code",
   "execution_count": 74,
   "metadata": {},
   "outputs": [
    {
     "data": {
      "text/html": [
       "<div>\n",
       "<style scoped>\n",
       "    .dataframe tbody tr th:only-of-type {\n",
       "        vertical-align: middle;\n",
       "    }\n",
       "\n",
       "    .dataframe tbody tr th {\n",
       "        vertical-align: top;\n",
       "    }\n",
       "\n",
       "    .dataframe thead th {\n",
       "        text-align: right;\n",
       "    }\n",
       "</style>\n",
       "<table border=\"1\" class=\"dataframe\">\n",
       "  <thead>\n",
       "    <tr style=\"text-align: right;\">\n",
       "      <th></th>\n",
       "      <th>err_mag_mx2</th>\n",
       "      <th>err_r_mx2</th>\n",
       "      <th>err_ang_mx2</th>\n",
       "    </tr>\n",
       "  </thead>\n",
       "  <tbody>\n",
       "    <tr>\n",
       "      <th>35</th>\n",
       "      <td>2.827684</td>\n",
       "      <td>770.984141</td>\n",
       "      <td>93.682335</td>\n",
       "    </tr>\n",
       "    <tr>\n",
       "      <th>36</th>\n",
       "      <td>2.350709</td>\n",
       "      <td>460.124584</td>\n",
       "      <td>128.987928</td>\n",
       "    </tr>\n",
       "    <tr>\n",
       "      <th>43</th>\n",
       "      <td>2.269882</td>\n",
       "      <td>697.969711</td>\n",
       "      <td>114.014828</td>\n",
       "    </tr>\n",
       "    <tr>\n",
       "      <th>49</th>\n",
       "      <td>2.341144</td>\n",
       "      <td>640.854338</td>\n",
       "      <td>119.470011</td>\n",
       "    </tr>\n",
       "    <tr>\n",
       "      <th>52</th>\n",
       "      <td>2.445179</td>\n",
       "      <td>664.875172</td>\n",
       "      <td>116.502640</td>\n",
       "    </tr>\n",
       "  </tbody>\n",
       "</table>\n",
       "</div>"
      ],
      "text/plain": [
       "    err_mag_mx2   err_r_mx2  err_ang_mx2\n",
       "35     2.827684  770.984141    93.682335\n",
       "36     2.350709  460.124584   128.987928\n",
       "43     2.269882  697.969711   114.014828\n",
       "49     2.341144  640.854338   119.470011\n",
       "52     2.445179  664.875172   116.502640"
      ]
     },
     "execution_count": 74,
     "metadata": {},
     "output_type": "execute_result"
    }
   ],
   "source": [
    "df.head()"
   ]
  },
  {
   "cell_type": "code",
   "execution_count": 75,
   "metadata": {},
   "outputs": [
    {
     "data": {
      "text/plain": [
       "array([[ -5.07630313e-03,   1.69064560e-05,  -1.24235263e-08]])"
      ]
     },
     "execution_count": 75,
     "metadata": {},
     "output_type": "execute_result"
    }
   ],
   "source": [
    "LR.coef_"
   ]
  },
  {
   "cell_type": "code",
   "execution_count": 76,
   "metadata": {},
   "outputs": [
    {
     "data": {
      "text/plain": [
       "array([ 1.95492623])"
      ]
     },
     "execution_count": 76,
     "metadata": {},
     "output_type": "execute_result"
    }
   ],
   "source": [
    "LR.intercept_"
   ]
  },
  {
   "cell_type": "markdown",
   "metadata": {},
   "source": [
    "## Model Evaluation"
   ]
  },
  {
   "cell_type": "code",
   "execution_count": null,
   "metadata": {
    "collapsed": true
   },
   "outputs": [],
   "source": []
  }
 ],
 "metadata": {
  "kernelspec": {
   "display_name": "Python 2",
   "language": "python",
   "name": "python2"
  },
  "language_info": {
   "codemirror_mode": {
    "name": "ipython",
    "version": 2
   },
   "file_extension": ".py",
   "mimetype": "text/x-python",
   "name": "python",
   "nbconvert_exporter": "python",
   "pygments_lexer": "ipython2",
   "version": "2.7.13"
  }
 },
 "nbformat": 4,
 "nbformat_minor": 2
}
