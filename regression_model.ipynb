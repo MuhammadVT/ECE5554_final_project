{
 "cells": [
  {
   "cell_type": "code",
   "execution_count": 45,
   "metadata": {
    "collapsed": true
   },
   "outputs": [],
   "source": [
    "import matplotlib.pyplot as plt\n",
    "import pandas as pd\n",
    "from sklearn import preprocessing\n",
    "from sklearn import linear_model"
   ]
  },
  {
   "cell_type": "code",
   "execution_count": 13,
   "metadata": {
    "collapsed": true
   },
   "outputs": [],
   "source": [
    "plt.style.use(\"ggplot\")\n",
    "%matplotlib inline"
   ]
  },
  {
   "cell_type": "code",
   "execution_count": 1,
   "metadata": {},
   "outputs": [
    {
     "name": "stdout",
     "output_type": "stream",
     "text": [
      "./data/img_pixel_coords/py1.txt\n",
      "./data/img_pixel_coords/my3.txt\n",
      "./data/img_pixel_coords/px1.txt\n",
      "./data/img_pixel_coords/mx1.txt\n",
      "./data/img_pixel_coords/py2.txt\n",
      "./data/img_pixel_coords/mx3.txt\n",
      "./data/img_pixel_coords/px2.txt\n",
      "./data/img_pixel_coords/mx2.txt\n",
      "./data/img_pixel_coords/px3.txt\n",
      "./data/img_pixel_coords/py3.txt\n",
      "./data/img_pixel_coords/py4.txt\n",
      "./data/img_pixel_coords/my4.txt\n"
     ]
    }
   ],
   "source": [
    "run merge_data"
   ]
  },
  {
   "cell_type": "code",
   "execution_count": 121,
   "metadata": {},
   "outputs": [],
   "source": [
    "# Select for stars taken from mx camera\n",
    "idx_err_r_mx = data.filter(regex=(\"err_r_mx.\")).notnull().any(axis=1)\n",
    "df_err_r_mx = data.filter(regex=(\"err_r_mx.\")).loc[idx_err_r_mx]\n",
    "\n",
    "idx_err_ang_mx = data.filter(regex=(\"err_ang_mx.\")).notnull().any(axis=1)\n",
    "df_err_ang_mx = data.filter(regex=(\"err_ang_mx.\")).loc[idx_err_ang_mx]\n",
    "\n",
    "idx_err_mag_mx = data.filter(regex=(\"err_mag_mx.\")).notnull().any(axis=1)\n",
    "df_err_mag_mx = data.filter(regex=(\"err_mag_mx.\")).loc[idx_err_mag_mx]\n",
    "\n",
    "df_err_mx = df_err_r_mx.join(df_err_mag_mx)\n",
    "df_err_mx = df_err_mx.join(df_err_ang_mx)"
   ]
  },
  {
   "cell_type": "code",
   "execution_count": 122,
   "metadata": {},
   "outputs": [
    {
     "data": {
      "text/html": [
       "<div>\n",
       "<style scoped>\n",
       "    .dataframe tbody tr th:only-of-type {\n",
       "        vertical-align: middle;\n",
       "    }\n",
       "\n",
       "    .dataframe tbody tr th {\n",
       "        vertical-align: top;\n",
       "    }\n",
       "\n",
       "    .dataframe thead th {\n",
       "        text-align: right;\n",
       "    }\n",
       "</style>\n",
       "<table border=\"1\" class=\"dataframe\">\n",
       "  <thead>\n",
       "    <tr style=\"text-align: right;\">\n",
       "      <th></th>\n",
       "      <th>err_r_mx2</th>\n",
       "      <th>err_r_mx3</th>\n",
       "      <th>err_r_mx1</th>\n",
       "      <th>err_mag_mx2</th>\n",
       "      <th>err_mag_mx3</th>\n",
       "      <th>err_mag_mx1</th>\n",
       "      <th>err_ang_mx2</th>\n",
       "      <th>err_ang_mx3</th>\n",
       "      <th>err_ang_mx1</th>\n",
       "    </tr>\n",
       "    <tr>\n",
       "      <th>starname</th>\n",
       "      <th></th>\n",
       "      <th></th>\n",
       "      <th></th>\n",
       "      <th></th>\n",
       "      <th></th>\n",
       "      <th></th>\n",
       "      <th></th>\n",
       "      <th></th>\n",
       "      <th></th>\n",
       "    </tr>\n",
       "  </thead>\n",
       "  <tbody>\n",
       "    <tr>\n",
       "      <th>alpha Aps</th>\n",
       "      <td>600.671295</td>\n",
       "      <td>609.249744</td>\n",
       "      <td>NaN</td>\n",
       "      <td>2.804333</td>\n",
       "      <td>1.846509</td>\n",
       "      <td>NaN</td>\n",
       "      <td>136.527220</td>\n",
       "      <td>53.256316</td>\n",
       "      <td>NaN</td>\n",
       "    </tr>\n",
       "    <tr>\n",
       "      <th>alpha Cha</th>\n",
       "      <td>770.984141</td>\n",
       "      <td>NaN</td>\n",
       "      <td>NaN</td>\n",
       "      <td>2.827839</td>\n",
       "      <td>NaN</td>\n",
       "      <td>NaN</td>\n",
       "      <td>163.476955</td>\n",
       "      <td>NaN</td>\n",
       "      <td>NaN</td>\n",
       "    </tr>\n",
       "    <tr>\n",
       "      <th>alpha Cir</th>\n",
       "      <td>460.124584</td>\n",
       "      <td>476.018649</td>\n",
       "      <td>NaN</td>\n",
       "      <td>2.350287</td>\n",
       "      <td>1.304118</td>\n",
       "      <td>NaN</td>\n",
       "      <td>98.778020</td>\n",
       "      <td>1.257069</td>\n",
       "      <td>NaN</td>\n",
       "    </tr>\n",
       "    <tr>\n",
       "      <th>alpha Lup</th>\n",
       "      <td>800.532994</td>\n",
       "      <td>815.840411</td>\n",
       "      <td>636.514009</td>\n",
       "      <td>2.068128</td>\n",
       "      <td>0.364182</td>\n",
       "      <td>0.946469</td>\n",
       "      <td>82.591039</td>\n",
       "      <td>89.052455</td>\n",
       "      <td>82.137848</td>\n",
       "    </tr>\n",
       "    <tr>\n",
       "      <th>alpha Mus</th>\n",
       "      <td>183.025800</td>\n",
       "      <td>188.470581</td>\n",
       "      <td>532.972339</td>\n",
       "      <td>2.000192</td>\n",
       "      <td>1.696104</td>\n",
       "      <td>0.801401</td>\n",
       "      <td>145.343055</td>\n",
       "      <td>39.682293</td>\n",
       "      <td>116.397485</td>\n",
       "    </tr>\n",
       "  </tbody>\n",
       "</table>\n",
       "</div>"
      ],
      "text/plain": [
       "            err_r_mx2   err_r_mx3   err_r_mx1  err_mag_mx2  err_mag_mx3  \\\n",
       "starname                                                                  \n",
       "alpha Aps  600.671295  609.249744         NaN     2.804333     1.846509   \n",
       "alpha Cha  770.984141         NaN         NaN     2.827839          NaN   \n",
       "alpha Cir  460.124584  476.018649         NaN     2.350287     1.304118   \n",
       "alpha Lup  800.532994  815.840411  636.514009     2.068128     0.364182   \n",
       "alpha Mus  183.025800  188.470581  532.972339     2.000192     1.696104   \n",
       "\n",
       "           err_mag_mx1  err_ang_mx2  err_ang_mx3  err_ang_mx1  \n",
       "starname                                                       \n",
       "alpha Aps          NaN   136.527220    53.256316          NaN  \n",
       "alpha Cha          NaN   163.476955          NaN          NaN  \n",
       "alpha Cir          NaN    98.778020     1.257069          NaN  \n",
       "alpha Lup     0.946469    82.591039    89.052455    82.137848  \n",
       "alpha Mus     0.801401   145.343055    39.682293   116.397485  "
      ]
     },
     "execution_count": 122,
     "metadata": {},
     "output_type": "execute_result"
    }
   ],
   "source": [
    "df_err_mx.head()"
   ]
  },
  {
   "cell_type": "code",
   "execution_count": 123,
   "metadata": {},
   "outputs": [
    {
     "data": {
      "text/html": [
       "<div>\n",
       "<style scoped>\n",
       "    .dataframe tbody tr th:only-of-type {\n",
       "        vertical-align: middle;\n",
       "    }\n",
       "\n",
       "    .dataframe tbody tr th {\n",
       "        vertical-align: top;\n",
       "    }\n",
       "\n",
       "    .dataframe thead th {\n",
       "        text-align: right;\n",
       "    }\n",
       "</style>\n",
       "<table border=\"1\" class=\"dataframe\">\n",
       "  <thead>\n",
       "    <tr style=\"text-align: right;\">\n",
       "      <th></th>\n",
       "      <th>err_r_mx2</th>\n",
       "      <th>err_r_mx3</th>\n",
       "      <th>err_r_mx1</th>\n",
       "      <th>err_mag_mx2</th>\n",
       "      <th>err_mag_mx3</th>\n",
       "      <th>err_mag_mx1</th>\n",
       "      <th>err_ang_mx2</th>\n",
       "      <th>err_ang_mx3</th>\n",
       "      <th>err_ang_mx1</th>\n",
       "    </tr>\n",
       "  </thead>\n",
       "  <tbody>\n",
       "    <tr>\n",
       "      <th>count</th>\n",
       "      <td>115.000000</td>\n",
       "      <td>112.000000</td>\n",
       "      <td>21.000000</td>\n",
       "      <td>115.000000</td>\n",
       "      <td>112.000000</td>\n",
       "      <td>21.000000</td>\n",
       "      <td>115.000000</td>\n",
       "      <td>112.000000</td>\n",
       "      <td>21.000000</td>\n",
       "    </tr>\n",
       "    <tr>\n",
       "      <th>mean</th>\n",
       "      <td>531.218733</td>\n",
       "      <td>542.145293</td>\n",
       "      <td>563.367792</td>\n",
       "      <td>2.156532</td>\n",
       "      <td>1.708812</td>\n",
       "      <td>0.929566</td>\n",
       "      <td>113.149455</td>\n",
       "      <td>80.949675</td>\n",
       "      <td>58.515381</td>\n",
       "    </tr>\n",
       "    <tr>\n",
       "      <th>std</th>\n",
       "      <td>251.130435</td>\n",
       "      <td>263.917057</td>\n",
       "      <td>186.577619</td>\n",
       "      <td>0.625079</td>\n",
       "      <td>0.727067</td>\n",
       "      <td>0.611971</td>\n",
       "      <td>48.388573</td>\n",
       "      <td>46.076543</td>\n",
       "      <td>31.743055</td>\n",
       "    </tr>\n",
       "    <tr>\n",
       "      <th>min</th>\n",
       "      <td>9.218313</td>\n",
       "      <td>9.102225</td>\n",
       "      <td>156.328580</td>\n",
       "      <td>0.386807</td>\n",
       "      <td>0.111499</td>\n",
       "      <td>0.081810</td>\n",
       "      <td>1.037714</td>\n",
       "      <td>0.967400</td>\n",
       "      <td>0.190576</td>\n",
       "    </tr>\n",
       "    <tr>\n",
       "      <th>25%</th>\n",
       "      <td>356.533943</td>\n",
       "      <td>348.696906</td>\n",
       "      <td>532.972339</td>\n",
       "      <td>1.643484</td>\n",
       "      <td>1.263963</td>\n",
       "      <td>0.623737</td>\n",
       "      <td>79.178141</td>\n",
       "      <td>50.588325</td>\n",
       "      <td>38.660846</td>\n",
       "    </tr>\n",
       "    <tr>\n",
       "      <th>50%</th>\n",
       "      <td>596.907934</td>\n",
       "      <td>606.238980</td>\n",
       "      <td>613.679713</td>\n",
       "      <td>2.153519</td>\n",
       "      <td>1.743669</td>\n",
       "      <td>0.823932</td>\n",
       "      <td>125.021398</td>\n",
       "      <td>79.152075</td>\n",
       "      <td>58.762231</td>\n",
       "    </tr>\n",
       "    <tr>\n",
       "      <th>75%</th>\n",
       "      <td>740.612167</td>\n",
       "      <td>745.952198</td>\n",
       "      <td>658.501959</td>\n",
       "      <td>2.685261</td>\n",
       "      <td>2.171689</td>\n",
       "      <td>1.076096</td>\n",
       "      <td>152.985004</td>\n",
       "      <td>117.613956</td>\n",
       "      <td>76.849210</td>\n",
       "    </tr>\n",
       "    <tr>\n",
       "      <th>max</th>\n",
       "      <td>1009.864620</td>\n",
       "      <td>1013.690734</td>\n",
       "      <td>816.381060</td>\n",
       "      <td>3.149304</td>\n",
       "      <td>3.359154</td>\n",
       "      <td>3.119962</td>\n",
       "      <td>178.109203</td>\n",
       "      <td>173.794751</td>\n",
       "      <td>116.397485</td>\n",
       "    </tr>\n",
       "  </tbody>\n",
       "</table>\n",
       "</div>"
      ],
      "text/plain": [
       "         err_r_mx2    err_r_mx3   err_r_mx1  err_mag_mx2  err_mag_mx3  \\\n",
       "count   115.000000   112.000000   21.000000   115.000000   112.000000   \n",
       "mean    531.218733   542.145293  563.367792     2.156532     1.708812   \n",
       "std     251.130435   263.917057  186.577619     0.625079     0.727067   \n",
       "min       9.218313     9.102225  156.328580     0.386807     0.111499   \n",
       "25%     356.533943   348.696906  532.972339     1.643484     1.263963   \n",
       "50%     596.907934   606.238980  613.679713     2.153519     1.743669   \n",
       "75%     740.612167   745.952198  658.501959     2.685261     2.171689   \n",
       "max    1009.864620  1013.690734  816.381060     3.149304     3.359154   \n",
       "\n",
       "       err_mag_mx1  err_ang_mx2  err_ang_mx3  err_ang_mx1  \n",
       "count    21.000000   115.000000   112.000000    21.000000  \n",
       "mean      0.929566   113.149455    80.949675    58.515381  \n",
       "std       0.611971    48.388573    46.076543    31.743055  \n",
       "min       0.081810     1.037714     0.967400     0.190576  \n",
       "25%       0.623737    79.178141    50.588325    38.660846  \n",
       "50%       0.823932   125.021398    79.152075    58.762231  \n",
       "75%       1.076096   152.985004   117.613956    76.849210  \n",
       "max       3.119962   178.109203   173.794751   116.397485  "
      ]
     },
     "execution_count": 123,
     "metadata": {},
     "output_type": "execute_result"
    }
   ],
   "source": [
    "df_err_mx.describe()"
   ]
  },
  {
   "cell_type": "code",
   "execution_count": 124,
   "metadata": {},
   "outputs": [],
   "source": [
    "# Build Regression Model\n"
   ]
  },
  {
   "cell_type": "code",
   "execution_count": 125,
   "metadata": {},
   "outputs": [
    {
     "data": {
      "text/plain": [
       "LinearRegression(copy_X=True, fit_intercept=True, n_jobs=1, normalize=False)"
      ]
     },
     "execution_count": 125,
     "metadata": {},
     "output_type": "execute_result"
    }
   ],
   "source": [
    "df = df_err_mx[['err_mag_mx2', 'err_r_mx2', 'err_ang_mx2']].dropna()\n",
    "y_train = np.reshape(df.err_mag_mx2.as_matrix(), (df.shape[0], 1))\n",
    "x_train = np.reshape(df.err_r_mx2.as_matrix(), (df.shape[0], 1))\n",
    "\n",
    "# Create polynomial features\n",
    "x_train_poly = np.hstack((x_train, np.power(x_train,2), np.power(x_train,3)))\n",
    "#poly = preprocessing.PolynomialFeatures(degree=3, interaction_only=False, include_bias=True)\n",
    "#x_train_poly=poly.fit_transform(x_train)\n",
    "\n",
    "# Fit a linear regression model\n",
    "LR = linear_model.LinearRegression()\n",
    "LR.fit(x_train_poly, y_train)"
   ]
  },
  {
   "cell_type": "code",
   "execution_count": 126,
   "metadata": {},
   "outputs": [],
   "source": [
    "y_pred = LR.predict(x_train_poly)"
   ]
  },
  {
   "cell_type": "code",
   "execution_count": 127,
   "metadata": {},
   "outputs": [
    {
     "data": {
      "text/plain": [
       "[<matplotlib.lines.Line2D at 0x7ff7be811ed0>]"
      ]
     },
     "execution_count": 127,
     "metadata": {},
     "output_type": "execute_result"
    },
    {
     "data": {
      "image/png": "[encoded data removed]",
      "text/plain": [
       "<matplotlib.figure.Figure at 0x7ff7be6b5210>"
      ]
     },
     "metadata": {},
     "output_type": "display_data"
    }
   ],
   "source": [
    "fig, ax = plt.subplots()\n",
    "ax.plot(y_train, y_pred, '.r')"
   ]
  },
  {
   "cell_type": "code",
   "execution_count": 128,
   "metadata": {},
   "outputs": [
    {
     "data": {
      "text/plain": [
       "[<matplotlib.lines.Line2D at 0x7ff7be200990>]"
      ]
     },
     "execution_count": 128,
     "metadata": {},
     "output_type": "execute_result"
    },
    {
     "data": {
      "image/png": "[encoded data removed]",
      "text/plain": [
       "<matplotlib.figure.Figure at 0x7ff7be2009d0>"
      ]
     },
     "metadata": {},
     "output_type": "display_data"
    }
   ],
   "source": [
    "fig2, ax2 = plt.subplots()\n",
    "ax2.plot(x_train,y_train, '.r')"
   ]
  },
  {
   "cell_type": "code",
   "execution_count": 134,
   "metadata": {},
   "outputs": [
    {
     "data": {
      "text/plain": [
       "[<matplotlib.lines.Line2D at 0x7ff7be9b1290>]"
      ]
     },
     "execution_count": 134,
     "metadata": {},
     "output_type": "execute_result"
    },
    {
     "data": {
      "image/png": "[encoded data removed]",
      "text/plain": [
       "<matplotlib.figure.Figure at 0x7ff7be9b1110>"
      ]
     },
     "metadata": {},
     "output_type": "display_data"
    }
   ],
   "source": [
    "fig3, ax3 = plt.subplots()\n",
    "ax3.plot(x_train, df.err_ang_mx2.as_matrix(), '.r')"
   ]
  },
  {
   "cell_type": "code",
   "execution_count": 132,
   "metadata": {},
   "outputs": [
    {
     "data": {
      "text/html": [
       "<div>\n",
       "<style scoped>\n",
       "    .dataframe tbody tr th:only-of-type {\n",
       "        vertical-align: middle;\n",
       "    }\n",
       "\n",
       "    .dataframe tbody tr th {\n",
       "        vertical-align: top;\n",
       "    }\n",
       "\n",
       "    .dataframe thead th {\n",
       "        text-align: right;\n",
       "    }\n",
       "</style>\n",
       "<table border=\"1\" class=\"dataframe\">\n",
       "  <thead>\n",
       "    <tr style=\"text-align: right;\">\n",
       "      <th></th>\n",
       "      <th>err_mag_mx2</th>\n",
       "      <th>err_r_mx2</th>\n",
       "      <th>err_ang_mx2</th>\n",
       "    </tr>\n",
       "    <tr>\n",
       "      <th>starname</th>\n",
       "      <th></th>\n",
       "      <th></th>\n",
       "      <th></th>\n",
       "    </tr>\n",
       "  </thead>\n",
       "  <tbody>\n",
       "    <tr>\n",
       "      <th>alpha Aps</th>\n",
       "      <td>2.804333</td>\n",
       "      <td>600.671295</td>\n",
       "      <td>136.527220</td>\n",
       "    </tr>\n",
       "    <tr>\n",
       "      <th>alpha Cha</th>\n",
       "      <td>2.827839</td>\n",
       "      <td>770.984141</td>\n",
       "      <td>163.476955</td>\n",
       "    </tr>\n",
       "    <tr>\n",
       "      <th>alpha Cir</th>\n",
       "      <td>2.350287</td>\n",
       "      <td>460.124584</td>\n",
       "      <td>98.778020</td>\n",
       "    </tr>\n",
       "    <tr>\n",
       "      <th>alpha Lup</th>\n",
       "      <td>2.068128</td>\n",
       "      <td>800.532994</td>\n",
       "      <td>82.591039</td>\n",
       "    </tr>\n",
       "    <tr>\n",
       "      <th>alpha Mus</th>\n",
       "      <td>2.000192</td>\n",
       "      <td>183.025800</td>\n",
       "      <td>145.343055</td>\n",
       "    </tr>\n",
       "  </tbody>\n",
       "</table>\n",
       "</div>"
      ],
      "text/plain": [
       "           err_mag_mx2   err_r_mx2  err_ang_mx2\n",
       "starname                                       \n",
       "alpha Aps     2.804333  600.671295   136.527220\n",
       "alpha Cha     2.827839  770.984141   163.476955\n",
       "alpha Cir     2.350287  460.124584    98.778020\n",
       "alpha Lup     2.068128  800.532994    82.591039\n",
       "alpha Mus     2.000192  183.025800   145.343055"
      ]
     },
     "execution_count": 132,
     "metadata": {},
     "output_type": "execute_result"
    }
   ],
   "source": [
    "df.head()"
   ]
  },
  {
   "cell_type": "code",
   "execution_count": 115,
   "metadata": {},
   "outputs": [
    {
     "data": {
      "text/plain": [
       "array([[ -7.50172409e-03,   2.29153669e-05,  -1.65568194e-08]])"
      ]
     },
     "execution_count": 115,
     "metadata": {},
     "output_type": "execute_result"
    }
   ],
   "source": [
    "LR.coef_"
   ]
  },
  {
   "cell_type": "code",
   "execution_count": 116,
   "metadata": {},
   "outputs": [
    {
     "data": {
      "text/plain": [
       "array([ 2.25273533])"
      ]
     },
     "execution_count": 116,
     "metadata": {},
     "output_type": "execute_result"
    }
   ],
   "source": [
    "LR.intercept_"
   ]
  }
 ],
 "metadata": {
  "kernelspec": {
   "display_name": "Python 2",
   "language": "python",
   "name": "python2"
  },
  "language_info": {
   "codemirror_mode": {
    "name": "ipython",
    "version": 2
   },
   "file_extension": ".py",
   "mimetype": "text/x-python",
   "name": "python",
   "nbconvert_exporter": "python",
   "pygments_lexer": "ipython2",
   "version": "2.7.13"
  }
 },
 "nbformat": 4,
 "nbformat_minor": 2
}
